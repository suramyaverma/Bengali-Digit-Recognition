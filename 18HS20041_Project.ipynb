{
  "nbformat": 4,
  "nbformat_minor": 0,
  "metadata": {
    "colab": {
      "provenance": []
    },
    "kernelspec": {
      "name": "python3",
      "display_name": "Python 3"
    }
  },
  "cells": [
    {
      "cell_type": "code",
      "metadata": {
        "id": "K83JvQEiSPlc"
      },
      "source": [
        "import pandas as pd\n",
        "import matplotlib.pyplot as plt\n",
        "import os\n",
        "import numpy as np"
      ],
      "execution_count": null,
      "outputs": []
    },
    {
      "cell_type": "code",
      "metadata": {
        "id": "VgjWYpgkT2t-"
      },
      "source": [
        "#I have made a zip file of all the data with name BDRW_dataset.zip"
      ],
      "execution_count": null,
      "outputs": []
    },
    {
      "cell_type": "code",
      "metadata": {
        "id": "rO2XfQwDSuze",
        "colab": {
          "base_uri": "https://localhost:8080/"
        },
        "outputId": "5f8c1a2d-65ef-4e7c-c7c6-92b760842a68"
      },
      "source": [
        "!unzip BDRW_dataset.zip"
      ],
      "execution_count": null,
      "outputs": [
        {
          "output_type": "stream",
          "text": [
            "Archive:  BDRW_dataset.zip\n",
            "  inflating: BDRW_dataset/digit_0.jpg  \n",
            "  inflating: BDRW_dataset/digit_1.jpg  \n",
            "  inflating: BDRW_dataset/digit_10.jpg  \n",
            "  inflating: BDRW_dataset/digit_100.jpg  \n",
            "  inflating: BDRW_dataset/digit_1000.jpg  \n",
            "  inflating: BDRW_dataset/digit_1001.jpg  \n",
            "  inflating: BDRW_dataset/digit_1002.jpg  \n",
            "  inflating: BDRW_dataset/digit_1003.jpg  \n",
            "  inflating: BDRW_dataset/digit_1005.jpg  \n",
            "  inflating: BDRW_dataset/digit_1006.jpg  \n",
            "  inflating: BDRW_dataset/digit_1007.jpg  \n",
            "  inflating: BDRW_dataset/digit_1008.jpg  \n",
            "  inflating: BDRW_dataset/digit_1009.jpg  \n",
            "  inflating: BDRW_dataset/digit_101.jpg  \n",
            "  inflating: BDRW_dataset/digit_1011.jpg  \n",
            "  inflating: BDRW_dataset/digit_1012.jpg  \n",
            "  inflating: BDRW_dataset/digit_1013.jpg  \n",
            "  inflating: BDRW_dataset/digit_1014.jpg  \n",
            "  inflating: BDRW_dataset/digit_1015.jpg  \n",
            "  inflating: BDRW_dataset/digit_1016.jpg  \n",
            "  inflating: BDRW_dataset/digit_1017.jpg  \n",
            "  inflating: BDRW_dataset/digit_1018.jpg  \n",
            "  inflating: BDRW_dataset/digit_102.jpg  \n",
            "  inflating: BDRW_dataset/digit_1020.jpg  \n",
            "  inflating: BDRW_dataset/digit_1021.jpg  \n",
            "  inflating: BDRW_dataset/digit_1022.jpg  \n",
            "  inflating: BDRW_dataset/digit_1023.jpg  \n",
            "  inflating: BDRW_dataset/digit_1024.jpg  \n",
            "  inflating: BDRW_dataset/digit_1025.jpg  \n",
            "  inflating: BDRW_dataset/digit_1026.jpg  \n",
            "  inflating: BDRW_dataset/digit_1027.jpg  \n",
            "  inflating: BDRW_dataset/digit_1028.jpg  \n",
            "  inflating: BDRW_dataset/digit_1029.jpg  \n",
            "  inflating: BDRW_dataset/digit_103.jpg  \n",
            "  inflating: BDRW_dataset/digit_1030.jpg  \n",
            "  inflating: BDRW_dataset/digit_1033.jpg  \n",
            "  inflating: BDRW_dataset/digit_1034.jpg  \n",
            "  inflating: BDRW_dataset/digit_1036.jpg  \n",
            "  inflating: BDRW_dataset/digit_1037.jpg  \n",
            "  inflating: BDRW_dataset/digit_1038.jpg  \n",
            "  inflating: BDRW_dataset/digit_1039.jpg  \n",
            "  inflating: BDRW_dataset/digit_104.jpg  \n",
            "  inflating: BDRW_dataset/digit_1040.jpg  \n",
            "  inflating: BDRW_dataset/digit_1041.jpg  \n",
            "  inflating: BDRW_dataset/digit_1042.jpg  \n",
            "  inflating: BDRW_dataset/digit_1043.jpg  \n",
            "  inflating: BDRW_dataset/digit_1044.jpg  \n",
            "  inflating: BDRW_dataset/digit_1045.jpg  \n",
            "  inflating: BDRW_dataset/digit_1046.jpg  \n",
            "  inflating: BDRW_dataset/digit_1047.jpg  \n",
            "  inflating: BDRW_dataset/digit_1048.jpg  \n",
            "  inflating: BDRW_dataset/digit_1049.jpg  \n",
            "  inflating: BDRW_dataset/digit_105.jpg  \n",
            "  inflating: BDRW_dataset/digit_1050.jpg  \n",
            "  inflating: BDRW_dataset/digit_1051.jpg  \n",
            "  inflating: BDRW_dataset/digit_1052.jpg  \n",
            "  inflating: BDRW_dataset/digit_1053.jpg  \n",
            "  inflating: BDRW_dataset/digit_1055.jpg  \n",
            "  inflating: BDRW_dataset/digit_1056.jpg  \n",
            "  inflating: BDRW_dataset/digit_1057.jpg  \n",
            "  inflating: BDRW_dataset/digit_1058.jpg  \n",
            "  inflating: BDRW_dataset/digit_106.jpg  \n",
            "  inflating: BDRW_dataset/digit_1060.jpg  \n",
            "  inflating: BDRW_dataset/digit_1063.jpg  \n",
            "  inflating: BDRW_dataset/digit_1064.jpg  \n",
            "  inflating: BDRW_dataset/digit_1065.jpg  \n",
            "  inflating: BDRW_dataset/digit_1066.jpg  \n",
            "  inflating: BDRW_dataset/digit_1067.jpg  \n",
            "  inflating: BDRW_dataset/digit_1068.jpg  \n",
            "  inflating: BDRW_dataset/digit_1069.jpg  \n",
            "  inflating: BDRW_dataset/digit_107.jpg  \n",
            "  inflating: BDRW_dataset/digit_1070.jpg  \n",
            "  inflating: BDRW_dataset/digit_1071.jpg  \n",
            "  inflating: BDRW_dataset/digit_1072.jpg  \n",
            "  inflating: BDRW_dataset/digit_1074.jpg  \n",
            "  inflating: BDRW_dataset/digit_1075.jpg  \n",
            "  inflating: BDRW_dataset/digit_1076.jpg  \n",
            "  inflating: BDRW_dataset/digit_108.jpg  \n",
            "  inflating: BDRW_dataset/digit_1080.jpg  \n",
            "  inflating: BDRW_dataset/digit_1081.jpg  \n",
            "  inflating: BDRW_dataset/digit_1082.jpg  \n",
            "  inflating: BDRW_dataset/digit_1083.jpg  \n",
            "  inflating: BDRW_dataset/digit_1084.jpg  \n",
            "  inflating: BDRW_dataset/digit_1085.jpg  \n",
            "  inflating: BDRW_dataset/digit_1086.jpg  \n",
            "  inflating: BDRW_dataset/digit_1087.jpg  \n",
            "  inflating: BDRW_dataset/digit_1088.jpg  \n",
            "  inflating: BDRW_dataset/digit_1089.jpg  \n",
            "  inflating: BDRW_dataset/digit_1090.jpg  \n",
            "  inflating: BDRW_dataset/digit_1091.jpg  \n",
            "  inflating: BDRW_dataset/digit_1092.jpg  \n",
            "  inflating: BDRW_dataset/digit_1093.jpg  \n",
            "  inflating: BDRW_dataset/digit_1094.jpg  \n",
            "  inflating: BDRW_dataset/digit_1095.jpg  \n",
            "  inflating: BDRW_dataset/digit_1096.jpg  \n",
            "  inflating: BDRW_dataset/digit_1097.jpg  \n",
            "  inflating: BDRW_dataset/digit_1098.jpg  \n",
            "  inflating: BDRW_dataset/digit_1099.jpg  \n",
            "  inflating: BDRW_dataset/digit_11.jpg  \n",
            "  inflating: BDRW_dataset/digit_110.jpg  \n",
            "  inflating: BDRW_dataset/digit_1100.jpg  \n",
            "  inflating: BDRW_dataset/digit_1102.jpg  \n",
            "  inflating: BDRW_dataset/digit_1103.jpg  \n",
            "  inflating: BDRW_dataset/digit_1104.jpg  \n",
            "  inflating: BDRW_dataset/digit_1105.jpg  \n",
            "  inflating: BDRW_dataset/digit_1106.jpg  \n",
            "  inflating: BDRW_dataset/digit_1107.jpg  \n",
            "  inflating: BDRW_dataset/digit_1108.jpg  \n",
            "  inflating: BDRW_dataset/digit_1109.jpg  \n",
            "  inflating: BDRW_dataset/digit_111.jpg  \n",
            "  inflating: BDRW_dataset/digit_1110.jpg  \n",
            "  inflating: BDRW_dataset/digit_1111.jpg  \n",
            "  inflating: BDRW_dataset/digit_1112.jpg  \n",
            "  inflating: BDRW_dataset/digit_1113.jpg  \n",
            "  inflating: BDRW_dataset/digit_1114.jpg  \n",
            "  inflating: BDRW_dataset/digit_1115.jpg  \n",
            "  inflating: BDRW_dataset/digit_1116.jpg  \n",
            "  inflating: BDRW_dataset/digit_1117.jpg  \n",
            "  inflating: BDRW_dataset/digit_1118.jpg  \n",
            "  inflating: BDRW_dataset/digit_1119.jpg  \n",
            "  inflating: BDRW_dataset/digit_112.jpg  \n",
            "  inflating: BDRW_dataset/digit_1124.jpg  \n",
            "  inflating: BDRW_dataset/digit_1126.jpg  \n",
            "  inflating: BDRW_dataset/digit_1127.jpg  \n",
            "  inflating: BDRW_dataset/digit_1128.jpg  \n",
            "  inflating: BDRW_dataset/digit_1129.jpg  \n",
            "  inflating: BDRW_dataset/digit_113.jpg  \n",
            "  inflating: BDRW_dataset/digit_1130.jpg  \n",
            "  inflating: BDRW_dataset/digit_1131.jpg  \n",
            "  inflating: BDRW_dataset/digit_1132.jpg  \n",
            "  inflating: BDRW_dataset/digit_1133.jpg  \n",
            "  inflating: BDRW_dataset/digit_1134.jpg  \n",
            "  inflating: BDRW_dataset/digit_1135.jpg  \n",
            "  inflating: BDRW_dataset/digit_1136.jpg  \n",
            "  inflating: BDRW_dataset/digit_1137.jpg  \n",
            "  inflating: BDRW_dataset/digit_1138.jpg  \n",
            "  inflating: BDRW_dataset/digit_1139.jpg  \n",
            "  inflating: BDRW_dataset/digit_114.jpg  \n",
            "  inflating: BDRW_dataset/digit_1140.jpg  \n",
            "  inflating: BDRW_dataset/digit_1141.jpg  \n",
            "  inflating: BDRW_dataset/digit_1142.jpg  \n",
            "  inflating: BDRW_dataset/digit_1143.jpg  \n",
            "  inflating: BDRW_dataset/digit_1144.jpg  \n",
            "  inflating: BDRW_dataset/digit_1146.jpg  \n",
            "  inflating: BDRW_dataset/digit_1147.jpg  \n",
            "  inflating: BDRW_dataset/digit_1148.jpg  \n",
            "  inflating: BDRW_dataset/digit_1149.jpg  \n",
            "  inflating: BDRW_dataset/digit_115.jpg  \n",
            "  inflating: BDRW_dataset/digit_1150.jpg  \n",
            "  inflating: BDRW_dataset/digit_1151.jpg  \n",
            "  inflating: BDRW_dataset/digit_1152.jpg  \n",
            "  inflating: BDRW_dataset/digit_1153.jpg  \n",
            "  inflating: BDRW_dataset/digit_1154.jpg  \n",
            "  inflating: BDRW_dataset/digit_1155.jpg  \n",
            "  inflating: BDRW_dataset/digit_1156.jpg  \n",
            "  inflating: BDRW_dataset/digit_1157.jpg  \n",
            "  inflating: BDRW_dataset/digit_1158.jpg  \n",
            "  inflating: BDRW_dataset/digit_1159.jpg  \n",
            "  inflating: BDRW_dataset/digit_116.jpg  \n",
            "  inflating: BDRW_dataset/digit_1160.jpg  \n",
            "  inflating: BDRW_dataset/digit_1161.jpg  \n",
            "  inflating: BDRW_dataset/digit_1164.jpg  \n",
            "  inflating: BDRW_dataset/digit_1165.jpg  \n",
            "  inflating: BDRW_dataset/digit_1166.jpg  \n",
            "  inflating: BDRW_dataset/digit_1169.jpg  \n",
            "  inflating: BDRW_dataset/digit_1170.jpg  \n",
            "  inflating: BDRW_dataset/digit_1171.jpg  \n",
            "  inflating: BDRW_dataset/digit_1172.jpg  \n",
            "  inflating: BDRW_dataset/digit_1173.jpg  \n",
            "  inflating: BDRW_dataset/digit_1174.jpg  \n",
            "  inflating: BDRW_dataset/digit_1175.jpg  \n",
            "  inflating: BDRW_dataset/digit_1176.jpg  \n",
            "  inflating: BDRW_dataset/digit_1177.jpg  \n",
            "  inflating: BDRW_dataset/digit_1178.jpg  \n",
            "  inflating: BDRW_dataset/digit_1179.jpg  \n",
            "  inflating: BDRW_dataset/digit_118.jpg  \n",
            "  inflating: BDRW_dataset/digit_1180.jpg  \n",
            "  inflating: BDRW_dataset/digit_1181.jpg  \n",
            "  inflating: BDRW_dataset/digit_1183.jpg  \n",
            "  inflating: BDRW_dataset/digit_1184.jpg  \n",
            "  inflating: BDRW_dataset/digit_1186.jpg  \n",
            "  inflating: BDRW_dataset/digit_1187.jpg  \n",
            "  inflating: BDRW_dataset/digit_1188.jpg  \n",
            "  inflating: BDRW_dataset/digit_1189.jpg  \n",
            "  inflating: BDRW_dataset/digit_119.jpg  \n",
            "  inflating: BDRW_dataset/digit_1190.jpg  \n",
            "  inflating: BDRW_dataset/digit_1191.jpg  \n",
            "  inflating: BDRW_dataset/digit_1192.jpg  \n",
            "  inflating: BDRW_dataset/digit_1193.jpg  \n",
            "  inflating: BDRW_dataset/digit_1194.jpg  \n",
            "  inflating: BDRW_dataset/digit_1195.jpg  \n",
            "  inflating: BDRW_dataset/digit_1196.jpg  \n",
            "  inflating: BDRW_dataset/digit_1197.jpg  \n",
            "  inflating: BDRW_dataset/digit_1198.jpg  \n",
            "  inflating: BDRW_dataset/digit_1199.jpg  \n",
            "  inflating: BDRW_dataset/digit_12.jpg  \n",
            "  inflating: BDRW_dataset/digit_120.jpg  \n",
            "  inflating: BDRW_dataset/digit_1200.jpg  \n",
            "  inflating: BDRW_dataset/digit_1201.jpg  \n",
            "  inflating: BDRW_dataset/digit_1202.jpg  \n",
            "  inflating: BDRW_dataset/digit_1203.jpg  \n",
            "  inflating: BDRW_dataset/digit_1204.jpg  \n",
            "  inflating: BDRW_dataset/digit_1205.jpg  \n",
            "  inflating: BDRW_dataset/digit_1206.jpg  \n",
            "  inflating: BDRW_dataset/digit_1207.jpg  \n",
            "  inflating: BDRW_dataset/digit_1208.jpg  \n",
            "  inflating: BDRW_dataset/digit_1209.jpg  \n",
            "  inflating: BDRW_dataset/digit_121.jpg  \n",
            "  inflating: BDRW_dataset/digit_1210.jpg  \n",
            "  inflating: BDRW_dataset/digit_1211.jpg  \n",
            "  inflating: BDRW_dataset/digit_1212.jpg  \n",
            "  inflating: BDRW_dataset/digit_1213.jpg  \n",
            "  inflating: BDRW_dataset/digit_1214.jpg  \n",
            "  inflating: BDRW_dataset/digit_1216.jpg  \n",
            "  inflating: BDRW_dataset/digit_1217.jpg  \n",
            "  inflating: BDRW_dataset/digit_1219.jpg  \n",
            "  inflating: BDRW_dataset/digit_122.jpg  \n",
            "  inflating: BDRW_dataset/digit_1220.jpg  \n",
            "  inflating: BDRW_dataset/digit_1221.jpg  \n",
            "  inflating: BDRW_dataset/digit_1222.jpg  \n",
            "  inflating: BDRW_dataset/digit_1223.jpg  \n",
            "  inflating: BDRW_dataset/digit_1224.jpg  \n",
            "  inflating: BDRW_dataset/digit_1225.jpg  \n",
            "  inflating: BDRW_dataset/digit_1226.jpg  \n",
            "  inflating: BDRW_dataset/digit_1227.jpg  \n",
            "  inflating: BDRW_dataset/digit_1228.jpg  \n",
            "  inflating: BDRW_dataset/digit_1229.jpg  \n",
            "  inflating: BDRW_dataset/digit_123.jpg  \n",
            "  inflating: BDRW_dataset/digit_1230.jpg  \n",
            "  inflating: BDRW_dataset/digit_1231.jpg  \n",
            "  inflating: BDRW_dataset/digit_1232.jpg  \n",
            "  inflating: BDRW_dataset/digit_1233.jpg  \n",
            "  inflating: BDRW_dataset/digit_1235.jpg  \n",
            "  inflating: BDRW_dataset/digit_1236.jpg  \n",
            "  inflating: BDRW_dataset/digit_1237.jpg  \n",
            "  inflating: BDRW_dataset/digit_1238.jpg  \n",
            "  inflating: BDRW_dataset/digit_1239.jpg  \n",
            "  inflating: BDRW_dataset/digit_124.jpg  \n",
            "  inflating: BDRW_dataset/digit_1240.jpg  \n",
            "  inflating: BDRW_dataset/digit_1241.jpg  \n",
            "  inflating: BDRW_dataset/digit_1242.jpg  \n",
            "  inflating: BDRW_dataset/digit_1243.jpg  \n",
            "  inflating: BDRW_dataset/digit_1244.jpg  \n",
            "  inflating: BDRW_dataset/digit_1245.jpg  \n",
            "  inflating: BDRW_dataset/digit_1246.jpg  \n",
            "  inflating: BDRW_dataset/digit_1247.jpg  \n",
            "  inflating: BDRW_dataset/digit_1248.jpg  \n",
            "  inflating: BDRW_dataset/digit_1249.jpg  \n",
            "  inflating: BDRW_dataset/digit_1250.jpg  \n",
            "  inflating: BDRW_dataset/digit_1251.jpg  \n",
            "  inflating: BDRW_dataset/digit_1252.jpg  \n",
            "  inflating: BDRW_dataset/digit_1253.jpg  \n",
            "  inflating: BDRW_dataset/digit_1254.jpg  \n",
            "  inflating: BDRW_dataset/digit_1256.jpg  \n",
            "  inflating: BDRW_dataset/digit_1257.jpg  \n",
            "  inflating: BDRW_dataset/digit_1258.jpg  \n",
            "  inflating: BDRW_dataset/digit_1259.jpg  \n",
            "  inflating: BDRW_dataset/digit_126.jpg  \n",
            "  inflating: BDRW_dataset/digit_1260.jpg  \n",
            "  inflating: BDRW_dataset/digit_1261.jpg  \n",
            "  inflating: BDRW_dataset/digit_1263.jpg  \n",
            "  inflating: BDRW_dataset/digit_1264.jpg  \n",
            "  inflating: BDRW_dataset/digit_1265.jpg  \n",
            "  inflating: BDRW_dataset/digit_1266.jpg  \n",
            "  inflating: BDRW_dataset/digit_1267.jpg  \n",
            "  inflating: BDRW_dataset/digit_1269.jpg  \n",
            "  inflating: BDRW_dataset/digit_127.jpg  \n",
            "  inflating: BDRW_dataset/digit_1270.jpg  \n",
            "  inflating: BDRW_dataset/digit_1271.jpg  \n",
            "  inflating: BDRW_dataset/digit_1272.jpg  \n",
            "  inflating: BDRW_dataset/digit_1275.jpg  \n",
            "  inflating: BDRW_dataset/digit_1277.jpg  \n",
            "  inflating: BDRW_dataset/digit_1279.jpg  \n",
            "  inflating: BDRW_dataset/digit_128.jpg  \n",
            "  inflating: BDRW_dataset/digit_1280.jpg  \n",
            "  inflating: BDRW_dataset/digit_1281.jpg  \n",
            "  inflating: BDRW_dataset/digit_1282.jpg  \n",
            "  inflating: BDRW_dataset/digit_1283.jpg  \n",
            "  inflating: BDRW_dataset/digit_1285.jpg  \n",
            "  inflating: BDRW_dataset/digit_1286.jpg  \n",
            "  inflating: BDRW_dataset/digit_1287.jpg  \n",
            "  inflating: BDRW_dataset/digit_1288.jpg  \n",
            "  inflating: BDRW_dataset/digit_1289.jpg  \n",
            "  inflating: BDRW_dataset/digit_129.jpg  \n",
            "  inflating: BDRW_dataset/digit_1290.jpg  \n",
            "  inflating: BDRW_dataset/digit_1291.jpg  \n",
            "  inflating: BDRW_dataset/digit_1292.jpg  \n",
            "  inflating: BDRW_dataset/digit_1293.jpg  \n",
            "  inflating: BDRW_dataset/digit_1294.jpg  \n",
            "  inflating: BDRW_dataset/digit_1295.jpg  \n",
            "  inflating: BDRW_dataset/digit_1297.jpg  \n",
            "  inflating: BDRW_dataset/digit_1298.jpg  \n",
            "  inflating: BDRW_dataset/digit_1299.jpg  \n",
            "  inflating: BDRW_dataset/digit_130.jpg  \n",
            "  inflating: BDRW_dataset/digit_1300.jpg  \n",
            "  inflating: BDRW_dataset/digit_1301.jpg  \n",
            "  inflating: BDRW_dataset/digit_1302.jpg  \n",
            "  inflating: BDRW_dataset/digit_1303.jpg  \n",
            "  inflating: BDRW_dataset/digit_1304.jpg  \n",
            "  inflating: BDRW_dataset/digit_1305.jpg  \n",
            "  inflating: BDRW_dataset/digit_1306.jpg  \n",
            "  inflating: BDRW_dataset/digit_1308.jpg  \n",
            "  inflating: BDRW_dataset/digit_1309.jpg  \n",
            "  inflating: BDRW_dataset/digit_131.jpg  \n",
            "  inflating: BDRW_dataset/digit_1310.jpg  \n",
            "  inflating: BDRW_dataset/digit_1311.jpg  \n",
            "  inflating: BDRW_dataset/digit_1312.jpg  \n",
            "  inflating: BDRW_dataset/digit_1313.jpg  \n",
            "  inflating: BDRW_dataset/digit_1314.jpg  \n",
            "  inflating: BDRW_dataset/digit_1315.jpg  \n",
            "  inflating: BDRW_dataset/digit_1316.jpg  \n",
            "  inflating: BDRW_dataset/digit_1317.jpg  \n",
            "  inflating: BDRW_dataset/digit_1318.jpg  \n",
            "  inflating: BDRW_dataset/digit_1319.jpg  \n",
            "  inflating: BDRW_dataset/digit_132.jpg  \n",
            "  inflating: BDRW_dataset/digit_1320.jpg  \n",
            "  inflating: BDRW_dataset/digit_1322.jpg  \n",
            "  inflating: BDRW_dataset/digit_1323.jpg  \n",
            "  inflating: BDRW_dataset/digit_1324.jpg  \n",
            "  inflating: BDRW_dataset/digit_1325.jpg  \n",
            "  inflating: BDRW_dataset/digit_1326.jpg  \n",
            "  inflating: BDRW_dataset/digit_1327.jpg  \n",
            "  inflating: BDRW_dataset/digit_1328.jpg  \n",
            "  inflating: BDRW_dataset/digit_1329.jpg  \n",
            "  inflating: BDRW_dataset/digit_133.jpg  \n",
            "  inflating: BDRW_dataset/digit_1330.jpg  \n",
            "  inflating: BDRW_dataset/digit_1332.jpg  \n",
            "  inflating: BDRW_dataset/digit_1333.jpg  \n",
            "  inflating: BDRW_dataset/digit_1334.jpg  \n",
            "  inflating: BDRW_dataset/digit_1335.jpg  \n",
            "  inflating: BDRW_dataset/digit_1336.jpg  \n",
            "  inflating: BDRW_dataset/digit_1337.jpg  \n",
            "  inflating: BDRW_dataset/digit_1338.jpg  \n",
            "  inflating: BDRW_dataset/digit_1339.jpg  \n",
            "  inflating: BDRW_dataset/digit_134.jpg  \n",
            "  inflating: BDRW_dataset/digit_1340.jpg  \n",
            "  inflating: BDRW_dataset/digit_1341.jpg  \n",
            "  inflating: BDRW_dataset/digit_1342.jpg  \n",
            "  inflating: BDRW_dataset/digit_1343.jpg  \n",
            "  inflating: BDRW_dataset/digit_1344.jpg  \n",
            "  inflating: BDRW_dataset/digit_1345.jpg  \n",
            "  inflating: BDRW_dataset/digit_1346.jpg  \n",
            "  inflating: BDRW_dataset/digit_1347.jpg  \n",
            "  inflating: BDRW_dataset/digit_1348.jpg  \n",
            "  inflating: BDRW_dataset/digit_1349.jpg  \n",
            "  inflating: BDRW_dataset/digit_135.jpg  \n",
            "  inflating: BDRW_dataset/digit_1351.jpg  \n",
            "  inflating: BDRW_dataset/digit_1352.jpg  \n",
            "  inflating: BDRW_dataset/digit_1353.jpg  \n",
            "  inflating: BDRW_dataset/digit_1354.jpg  \n",
            "  inflating: BDRW_dataset/digit_1355.jpg  \n",
            "  inflating: BDRW_dataset/digit_1356.jpg  \n",
            "  inflating: BDRW_dataset/digit_1357.jpg  \n",
            "  inflating: BDRW_dataset/digit_1358.jpg  \n",
            "  inflating: BDRW_dataset/digit_1359.jpg  \n",
            "  inflating: BDRW_dataset/digit_136.jpg  \n",
            "  inflating: BDRW_dataset/digit_1360.jpg  \n",
            "  inflating: BDRW_dataset/digit_1361.jpg  \n",
            "  inflating: BDRW_dataset/digit_1364.jpg  \n",
            "  inflating: BDRW_dataset/digit_1365.jpg  \n",
            "  inflating: BDRW_dataset/digit_1366.jpg  \n",
            "  inflating: BDRW_dataset/digit_1367.jpg  \n",
            "  inflating: BDRW_dataset/digit_1368.jpg  \n",
            "  inflating: BDRW_dataset/digit_1369.jpg  \n",
            "  inflating: BDRW_dataset/digit_137.jpg  \n",
            "  inflating: BDRW_dataset/digit_1370.jpg  \n",
            "  inflating: BDRW_dataset/digit_1371.jpg  \n",
            "  inflating: BDRW_dataset/digit_1372.jpg  \n",
            "  inflating: BDRW_dataset/digit_1373.jpg  \n",
            "  inflating: BDRW_dataset/digit_1374.jpg  \n",
            "  inflating: BDRW_dataset/digit_1375.jpg  \n",
            "  inflating: BDRW_dataset/digit_1376.jpg  \n",
            "  inflating: BDRW_dataset/digit_1377.jpg  \n",
            "  inflating: BDRW_dataset/digit_1378.jpg  \n",
            "  inflating: BDRW_dataset/digit_1379.jpg  \n",
            "  inflating: BDRW_dataset/digit_138.jpg  \n",
            "  inflating: BDRW_dataset/digit_1380.jpg  \n",
            "  inflating: BDRW_dataset/digit_1381.jpg  \n",
            "  inflating: BDRW_dataset/digit_1382.jpg  \n",
            "  inflating: BDRW_dataset/digit_1383.jpg  \n",
            "  inflating: BDRW_dataset/digit_1384.jpg  \n",
            "  inflating: BDRW_dataset/digit_1385.jpg  \n",
            "  inflating: BDRW_dataset/digit_1387.jpg  \n",
            "  inflating: BDRW_dataset/digit_1388.jpg  \n",
            "  inflating: BDRW_dataset/digit_1389.jpg  \n",
            "  inflating: BDRW_dataset/digit_139.jpg  \n",
            "  inflating: BDRW_dataset/digit_1390.jpg  \n",
            "  inflating: BDRW_dataset/digit_1391.jpg  \n",
            "  inflating: BDRW_dataset/digit_1392.jpg  \n",
            "  inflating: BDRW_dataset/digit_1394.jpg  \n",
            "  inflating: BDRW_dataset/digit_1395.jpg  \n",
            "  inflating: BDRW_dataset/digit_1396.jpg  \n",
            "  inflating: BDRW_dataset/digit_1398.jpg  \n",
            "  inflating: BDRW_dataset/digit_1399.jpg  \n",
            "  inflating: BDRW_dataset/digit_14.jpg  \n",
            "  inflating: BDRW_dataset/digit_1400.jpg  \n",
            "  inflating: BDRW_dataset/digit_1401.jpg  \n",
            "  inflating: BDRW_dataset/digit_1402.jpg  \n",
            "  inflating: BDRW_dataset/digit_1403.jpg  \n",
            "  inflating: BDRW_dataset/digit_1404.jpg  \n",
            "  inflating: BDRW_dataset/digit_1405.jpg  \n",
            "  inflating: BDRW_dataset/digit_1406.jpg  \n",
            "  inflating: BDRW_dataset/digit_1407.jpg  \n",
            "  inflating: BDRW_dataset/digit_1408.jpg  \n",
            "  inflating: BDRW_dataset/digit_1409.jpg  \n",
            "  inflating: BDRW_dataset/digit_141.jpg  \n",
            "  inflating: BDRW_dataset/digit_1410.jpg  \n",
            "  inflating: BDRW_dataset/digit_1411.jpg  \n",
            "  inflating: BDRW_dataset/digit_1412.jpg  \n",
            "  inflating: BDRW_dataset/digit_1413.jpg  \n",
            "  inflating: BDRW_dataset/digit_1414.jpg  \n",
            "  inflating: BDRW_dataset/digit_1415.jpg  \n",
            "  inflating: BDRW_dataset/digit_1416.jpg  \n",
            "  inflating: BDRW_dataset/digit_1417.jpg  \n",
            "  inflating: BDRW_dataset/digit_1418.jpg  \n",
            "  inflating: BDRW_dataset/digit_1419.jpg  \n",
            "  inflating: BDRW_dataset/digit_142.jpg  \n",
            "  inflating: BDRW_dataset/digit_1420.jpg  \n",
            "  inflating: BDRW_dataset/digit_1421.jpg  \n",
            "  inflating: BDRW_dataset/digit_1422.jpg  \n",
            "  inflating: BDRW_dataset/digit_1423.jpg  \n",
            "  inflating: BDRW_dataset/digit_1424.jpg  \n",
            "  inflating: BDRW_dataset/digit_1425.jpg  \n",
            "  inflating: BDRW_dataset/digit_1426.jpg  \n",
            "  inflating: BDRW_dataset/digit_1427.jpg  \n",
            "  inflating: BDRW_dataset/digit_1428.jpg  \n",
            "  inflating: BDRW_dataset/digit_1429.jpg  \n",
            "  inflating: BDRW_dataset/digit_143.jpg  \n",
            "  inflating: BDRW_dataset/digit_1430.jpg  \n",
            "  inflating: BDRW_dataset/digit_1431.jpg  \n",
            "  inflating: BDRW_dataset/digit_1432.jpg  \n",
            "  inflating: BDRW_dataset/digit_1433.jpg  \n",
            "  inflating: BDRW_dataset/digit_1435.jpg  \n",
            "  inflating: BDRW_dataset/digit_1436.jpg  \n",
            "  inflating: BDRW_dataset/digit_1437.jpg  \n",
            "  inflating: BDRW_dataset/digit_1438.jpg  \n",
            "  inflating: BDRW_dataset/digit_1439.jpg  \n",
            "  inflating: BDRW_dataset/digit_1440.jpg  \n",
            "  inflating: BDRW_dataset/digit_1441.jpg  \n",
            "  inflating: BDRW_dataset/digit_1442.jpg  \n",
            "  inflating: BDRW_dataset/digit_1443.jpg  \n",
            "  inflating: BDRW_dataset/digit_1444.jpg  \n",
            "  inflating: BDRW_dataset/digit_1447.jpg  \n",
            "  inflating: BDRW_dataset/digit_1448.jpg  \n",
            "  inflating: BDRW_dataset/digit_1449.jpg  \n",
            "  inflating: BDRW_dataset/digit_145.jpg  \n",
            "  inflating: BDRW_dataset/digit_1450.jpg  \n",
            "  inflating: BDRW_dataset/digit_1451.jpg  \n",
            "  inflating: BDRW_dataset/digit_1452.jpg  \n",
            "  inflating: BDRW_dataset/digit_1453.jpg  \n",
            "  inflating: BDRW_dataset/digit_1454.jpg  \n",
            "  inflating: BDRW_dataset/digit_1455.jpg  \n",
            "  inflating: BDRW_dataset/digit_1456.jpg  \n",
            "  inflating: BDRW_dataset/digit_1457.jpg  \n",
            "  inflating: BDRW_dataset/digit_1458.jpg  \n",
            "  inflating: BDRW_dataset/digit_146.jpg  \n",
            "  inflating: BDRW_dataset/digit_1460.jpg  \n",
            "  inflating: BDRW_dataset/digit_1461.jpg  \n",
            "  inflating: BDRW_dataset/digit_1462.jpg  \n",
            "  inflating: BDRW_dataset/digit_1463.jpg  \n",
            "  inflating: BDRW_dataset/digit_1464.jpg  \n",
            "  inflating: BDRW_dataset/digit_1465.jpg  \n",
            "  inflating: BDRW_dataset/digit_1466.jpg  \n",
            "  inflating: BDRW_dataset/digit_1467.jpg  \n",
            "  inflating: BDRW_dataset/digit_1468.jpg  \n",
            "  inflating: BDRW_dataset/digit_1469.jpg  \n",
            "  inflating: BDRW_dataset/digit_147.jpg  \n",
            "  inflating: BDRW_dataset/digit_1471.jpg  \n",
            "  inflating: BDRW_dataset/digit_1472.jpg  \n",
            "  inflating: BDRW_dataset/digit_1473.jpg  \n",
            "  inflating: BDRW_dataset/digit_1474.jpg  \n",
            "  inflating: BDRW_dataset/digit_1475.jpg  \n",
            "  inflating: BDRW_dataset/digit_1476.jpg  \n",
            "  inflating: BDRW_dataset/digit_1477.jpg  \n",
            "  inflating: BDRW_dataset/digit_1478.jpg  \n",
            "  inflating: BDRW_dataset/digit_1479.jpg  \n",
            "  inflating: BDRW_dataset/digit_148.jpg  \n",
            "  inflating: BDRW_dataset/digit_1480.jpg  \n",
            "  inflating: BDRW_dataset/digit_1481.jpg  \n",
            "  inflating: BDRW_dataset/digit_1482.jpg  \n",
            "  inflating: BDRW_dataset/digit_1483.jpg  \n",
            "  inflating: BDRW_dataset/digit_1484.jpg  \n",
            "  inflating: BDRW_dataset/digit_1485.jpg  \n",
            "  inflating: BDRW_dataset/digit_1486.jpg  \n",
            "  inflating: BDRW_dataset/digit_1487.jpg  \n",
            "  inflating: BDRW_dataset/digit_1488.jpg  \n",
            "  inflating: BDRW_dataset/digit_1489.jpg  \n",
            "  inflating: BDRW_dataset/digit_149.jpg  \n",
            "  inflating: BDRW_dataset/digit_1490.jpg  \n",
            "  inflating: BDRW_dataset/digit_1491.jpg  \n",
            "  inflating: BDRW_dataset/digit_1492.jpg  \n",
            "  inflating: BDRW_dataset/digit_1493.jpg  \n",
            "  inflating: BDRW_dataset/digit_1494.jpg  \n",
            "  inflating: BDRW_dataset/digit_1495.jpg  \n",
            "  inflating: BDRW_dataset/digit_1496.jpg  \n",
            "  inflating: BDRW_dataset/digit_1497.jpg  \n",
            "  inflating: BDRW_dataset/digit_1499.jpg  \n",
            "  inflating: BDRW_dataset/digit_15.jpg  \n",
            "  inflating: BDRW_dataset/digit_1500.jpg  \n",
            "  inflating: BDRW_dataset/digit_1501.jpg  \n",
            "  inflating: BDRW_dataset/digit_1502.jpg  \n",
            "  inflating: BDRW_dataset/digit_1503.jpg  \n",
            "  inflating: BDRW_dataset/digit_1505.jpg  \n",
            "  inflating: BDRW_dataset/digit_1506.jpg  \n",
            "  inflating: BDRW_dataset/digit_1507.jpg  \n",
            "  inflating: BDRW_dataset/digit_1508.jpg  \n",
            "  inflating: BDRW_dataset/digit_1510.jpg  \n",
            "  inflating: BDRW_dataset/digit_1511.jpg  \n",
            "  inflating: BDRW_dataset/digit_1513.jpg  \n",
            "  inflating: BDRW_dataset/digit_1514.jpg  \n",
            "  inflating: BDRW_dataset/digit_1515.jpg  \n",
            "  inflating: BDRW_dataset/digit_1516.jpg  \n",
            "  inflating: BDRW_dataset/digit_1517.jpg  \n",
            "  inflating: BDRW_dataset/digit_1518.jpg  \n",
            "  inflating: BDRW_dataset/digit_1519.jpg  \n",
            "  inflating: BDRW_dataset/digit_152.jpg  \n",
            "  inflating: BDRW_dataset/digit_1520.jpg  \n",
            "  inflating: BDRW_dataset/digit_1521.jpg  \n",
            "  inflating: BDRW_dataset/digit_1522.jpg  \n",
            "  inflating: BDRW_dataset/digit_1523.jpg  \n",
            "  inflating: BDRW_dataset/digit_1524.jpg  \n",
            "  inflating: BDRW_dataset/digit_1525.jpg  \n",
            "  inflating: BDRW_dataset/digit_1526.jpg  \n",
            "  inflating: BDRW_dataset/digit_1527.jpg  \n",
            "  inflating: BDRW_dataset/digit_1529.jpg  \n",
            "  inflating: BDRW_dataset/digit_153.jpg  \n",
            "  inflating: BDRW_dataset/digit_1530.jpg  \n",
            "  inflating: BDRW_dataset/digit_1531.jpg  \n",
            "  inflating: BDRW_dataset/digit_1532.jpg  \n",
            "  inflating: BDRW_dataset/digit_1533.jpg  \n",
            "  inflating: BDRW_dataset/digit_1534.jpg  \n",
            "  inflating: BDRW_dataset/digit_1535.jpg  \n",
            "  inflating: BDRW_dataset/digit_1536.jpg  \n",
            "  inflating: BDRW_dataset/digit_1537.jpg  \n",
            "  inflating: BDRW_dataset/digit_1538.jpg  \n",
            "  inflating: BDRW_dataset/digit_1539.jpg  \n",
            "  inflating: BDRW_dataset/digit_154.jpg  \n",
            "  inflating: BDRW_dataset/digit_1540.jpg  \n",
            "  inflating: BDRW_dataset/digit_1541.jpg  \n",
            "  inflating: BDRW_dataset/digit_1542.jpg  \n",
            "  inflating: BDRW_dataset/digit_1544.jpg  \n",
            "  inflating: BDRW_dataset/digit_1545.jpg  \n",
            "  inflating: BDRW_dataset/digit_1546.jpg  \n",
            "  inflating: BDRW_dataset/digit_1547.jpg  \n",
            "  inflating: BDRW_dataset/digit_155.jpg  \n",
            "  inflating: BDRW_dataset/digit_157.jpg  \n",
            "  inflating: BDRW_dataset/digit_159.jpg  \n",
            "  inflating: BDRW_dataset/digit_16.jpg  \n",
            "  inflating: BDRW_dataset/digit_160.jpg  \n",
            "  inflating: BDRW_dataset/digit_161.jpg  \n",
            "  inflating: BDRW_dataset/digit_162.jpg  \n",
            "  inflating: BDRW_dataset/digit_163.jpg  \n",
            "  inflating: BDRW_dataset/digit_164.jpg  \n",
            "  inflating: BDRW_dataset/digit_165.jpg  \n",
            "  inflating: BDRW_dataset/digit_166.jpg  \n",
            "  inflating: BDRW_dataset/digit_167.jpg  \n",
            "  inflating: BDRW_dataset/digit_168.jpg  \n",
            "  inflating: BDRW_dataset/digit_169.jpg  \n",
            "  inflating: BDRW_dataset/digit_17.jpg  \n",
            "  inflating: BDRW_dataset/digit_170.jpg  \n",
            "  inflating: BDRW_dataset/digit_171.jpg  \n",
            "  inflating: BDRW_dataset/digit_172.jpg  \n",
            "  inflating: BDRW_dataset/digit_173.jpg  \n",
            "  inflating: BDRW_dataset/digit_174.jpg  \n",
            "  inflating: BDRW_dataset/digit_175.jpg  \n",
            "  inflating: BDRW_dataset/digit_177.jpg  \n",
            "  inflating: BDRW_dataset/digit_178.jpg  \n",
            "  inflating: BDRW_dataset/digit_179.jpg  \n",
            "  inflating: BDRW_dataset/digit_18.jpg  \n",
            "  inflating: BDRW_dataset/digit_180.jpg  \n",
            "  inflating: BDRW_dataset/digit_181.jpg  \n",
            "  inflating: BDRW_dataset/digit_182.jpg  \n",
            "  inflating: BDRW_dataset/digit_183.jpg  \n",
            "  inflating: BDRW_dataset/digit_184.jpg  \n",
            "  inflating: BDRW_dataset/digit_186.jpg  \n",
            "  inflating: BDRW_dataset/digit_187.jpg  \n",
            "  inflating: BDRW_dataset/digit_188.jpg  \n",
            "  inflating: BDRW_dataset/digit_19.jpg  \n",
            "  inflating: BDRW_dataset/digit_190.jpg  \n",
            "  inflating: BDRW_dataset/digit_191.jpg  \n",
            "  inflating: BDRW_dataset/digit_192.jpg  \n",
            "  inflating: BDRW_dataset/digit_193.jpg  \n",
            "  inflating: BDRW_dataset/digit_194.jpg  \n",
            "  inflating: BDRW_dataset/digit_195.jpg  \n",
            "  inflating: BDRW_dataset/digit_196.jpg  \n",
            "  inflating: BDRW_dataset/digit_198.jpg  \n",
            "  inflating: BDRW_dataset/digit_199.jpg  \n",
            "  inflating: BDRW_dataset/digit_2.jpg  \n",
            "  inflating: BDRW_dataset/digit_20.jpg  \n",
            "  inflating: BDRW_dataset/digit_200.jpg  \n",
            "  inflating: BDRW_dataset/digit_201.jpg  \n",
            "  inflating: BDRW_dataset/digit_202.jpg  \n",
            "  inflating: BDRW_dataset/digit_203.jpg  \n",
            "  inflating: BDRW_dataset/digit_204.jpg  \n",
            "  inflating: BDRW_dataset/digit_205.jpg  \n",
            "  inflating: BDRW_dataset/digit_206.jpg  \n",
            "  inflating: BDRW_dataset/digit_207.jpg  \n",
            "  inflating: BDRW_dataset/digit_208.jpg  \n",
            "  inflating: BDRW_dataset/digit_209.jpg  \n",
            "  inflating: BDRW_dataset/digit_21.jpg  \n",
            "  inflating: BDRW_dataset/digit_210.jpg  \n",
            "  inflating: BDRW_dataset/digit_211.jpg  \n",
            "  inflating: BDRW_dataset/digit_213.jpg  \n",
            "  inflating: BDRW_dataset/digit_214.jpg  \n",
            "  inflating: BDRW_dataset/digit_215.jpg  \n",
            "  inflating: BDRW_dataset/digit_216.jpg  \n",
            "  inflating: BDRW_dataset/digit_217.jpg  \n",
            "  inflating: BDRW_dataset/digit_218.jpg  \n",
            "  inflating: BDRW_dataset/digit_219.jpg  \n",
            "  inflating: BDRW_dataset/digit_22.jpg  \n",
            "  inflating: BDRW_dataset/digit_221.jpg  \n",
            "  inflating: BDRW_dataset/digit_222.jpg  \n",
            "  inflating: BDRW_dataset/digit_223.jpg  \n",
            "  inflating: BDRW_dataset/digit_224.jpg  \n",
            "  inflating: BDRW_dataset/digit_225.jpg  \n",
            "  inflating: BDRW_dataset/digit_226.jpg  \n",
            "  inflating: BDRW_dataset/digit_227.jpg  \n",
            "  inflating: BDRW_dataset/digit_228.jpg  \n",
            "  inflating: BDRW_dataset/digit_229.jpg  \n",
            "  inflating: BDRW_dataset/digit_23.jpg  \n",
            "  inflating: BDRW_dataset/digit_230.jpg  \n",
            "  inflating: BDRW_dataset/digit_231.jpg  \n",
            "  inflating: BDRW_dataset/digit_232.jpg  \n",
            "  inflating: BDRW_dataset/digit_233.jpg  \n",
            "  inflating: BDRW_dataset/digit_234.jpg  \n",
            "  inflating: BDRW_dataset/digit_235.jpg  \n",
            "  inflating: BDRW_dataset/digit_236.jpg  \n",
            "  inflating: BDRW_dataset/digit_237.jpg  \n",
            "  inflating: BDRW_dataset/digit_238.jpg  \n",
            "  inflating: BDRW_dataset/digit_24.jpg  \n",
            "  inflating: BDRW_dataset/digit_240.jpg  \n",
            "  inflating: BDRW_dataset/digit_241.jpg  \n",
            "  inflating: BDRW_dataset/digit_242.jpg  \n",
            "  inflating: BDRW_dataset/digit_243.jpg  \n",
            "  inflating: BDRW_dataset/digit_244.jpg  \n",
            "  inflating: BDRW_dataset/digit_245.jpg  \n",
            "  inflating: BDRW_dataset/digit_246.jpg  \n",
            "  inflating: BDRW_dataset/digit_247.jpg  \n",
            "  inflating: BDRW_dataset/digit_248.jpg  \n",
            "  inflating: BDRW_dataset/digit_249.jpg  \n",
            "  inflating: BDRW_dataset/digit_25.jpg  \n",
            "  inflating: BDRW_dataset/digit_250.jpg  \n",
            "  inflating: BDRW_dataset/digit_251.jpg  \n",
            "  inflating: BDRW_dataset/digit_252.jpg  \n",
            "  inflating: BDRW_dataset/digit_253.jpg  \n",
            "  inflating: BDRW_dataset/digit_254.jpg  \n",
            "  inflating: BDRW_dataset/digit_255.jpg  \n",
            "  inflating: BDRW_dataset/digit_256.jpg  \n",
            "  inflating: BDRW_dataset/digit_257.jpg  \n",
            "  inflating: BDRW_dataset/digit_258.jpg  \n",
            "  inflating: BDRW_dataset/digit_259.jpg  \n",
            "  inflating: BDRW_dataset/digit_26.jpg  \n",
            "  inflating: BDRW_dataset/digit_260.jpg  \n",
            "  inflating: BDRW_dataset/digit_261.jpg  \n",
            "  inflating: BDRW_dataset/digit_262.jpg  \n",
            "  inflating: BDRW_dataset/digit_263.jpg  \n",
            "  inflating: BDRW_dataset/digit_264.jpg  \n",
            "  inflating: BDRW_dataset/digit_265.jpg  \n",
            "  inflating: BDRW_dataset/digit_266.jpg  \n",
            "  inflating: BDRW_dataset/digit_267.jpg  \n",
            "  inflating: BDRW_dataset/digit_268.jpg  \n",
            "  inflating: BDRW_dataset/digit_269.jpg  \n",
            "  inflating: BDRW_dataset/digit_27.jpg  \n",
            "  inflating: BDRW_dataset/digit_270.jpg  \n",
            "  inflating: BDRW_dataset/digit_271.jpg  \n",
            "  inflating: BDRW_dataset/digit_273.jpg  \n",
            "  inflating: BDRW_dataset/digit_274.jpg  \n",
            "  inflating: BDRW_dataset/digit_275.jpg  \n",
            "  inflating: BDRW_dataset/digit_276.jpg  \n",
            "  inflating: BDRW_dataset/digit_277.jpg  \n",
            "  inflating: BDRW_dataset/digit_279.jpg  \n",
            "  inflating: BDRW_dataset/digit_28.jpg  \n",
            "  inflating: BDRW_dataset/digit_280.jpg  \n",
            "  inflating: BDRW_dataset/digit_281.jpg  \n",
            "  inflating: BDRW_dataset/digit_282.jpg  \n",
            "  inflating: BDRW_dataset/digit_283.jpg  \n",
            "  inflating: BDRW_dataset/digit_284.jpg  \n",
            "  inflating: BDRW_dataset/digit_285.jpg  \n",
            "  inflating: BDRW_dataset/digit_286.jpg  \n",
            "  inflating: BDRW_dataset/digit_287.jpg  \n",
            "  inflating: BDRW_dataset/digit_288.jpg  \n",
            "  inflating: BDRW_dataset/digit_289.jpg  \n",
            "  inflating: BDRW_dataset/digit_29.jpg  \n",
            "  inflating: BDRW_dataset/digit_290.jpg  \n",
            "  inflating: BDRW_dataset/digit_291.jpg  \n",
            "  inflating: BDRW_dataset/digit_292.jpg  \n",
            "  inflating: BDRW_dataset/digit_293.jpg  \n",
            "  inflating: BDRW_dataset/digit_295.jpg  \n",
            "  inflating: BDRW_dataset/digit_296.jpg  \n",
            "  inflating: BDRW_dataset/digit_297.jpg  \n",
            "  inflating: BDRW_dataset/digit_298.jpg  \n",
            "  inflating: BDRW_dataset/digit_299.jpg  \n",
            "  inflating: BDRW_dataset/digit_3.jpg  \n",
            "  inflating: BDRW_dataset/digit_30.jpg  \n",
            "  inflating: BDRW_dataset/digit_300.jpg  \n",
            "  inflating: BDRW_dataset/digit_301.jpg  \n",
            "  inflating: BDRW_dataset/digit_302.jpg  \n",
            "  inflating: BDRW_dataset/digit_303.jpg  \n",
            "  inflating: BDRW_dataset/digit_304.jpg  \n",
            "  inflating: BDRW_dataset/digit_305.jpg  \n",
            "  inflating: BDRW_dataset/digit_307.jpg  \n",
            "  inflating: BDRW_dataset/digit_308.jpg  \n",
            "  inflating: BDRW_dataset/digit_309.jpg  \n",
            "  inflating: BDRW_dataset/digit_31.jpg  \n",
            "  inflating: BDRW_dataset/digit_310.jpg  \n",
            "  inflating: BDRW_dataset/digit_311.jpg  \n",
            "  inflating: BDRW_dataset/digit_312.jpg  \n",
            "  inflating: BDRW_dataset/digit_313.jpg  \n",
            "  inflating: BDRW_dataset/digit_314.jpg  \n",
            "  inflating: BDRW_dataset/digit_315.jpg  \n",
            "  inflating: BDRW_dataset/digit_316.jpg  \n",
            "  inflating: BDRW_dataset/digit_317.jpg  \n",
            "  inflating: BDRW_dataset/digit_318.jpg  \n",
            "  inflating: BDRW_dataset/digit_319.jpg  \n",
            "  inflating: BDRW_dataset/digit_320.jpg  \n",
            "  inflating: BDRW_dataset/digit_321.jpg  \n",
            "  inflating: BDRW_dataset/digit_322.jpg  \n",
            "  inflating: BDRW_dataset/digit_324.jpg  \n",
            "  inflating: BDRW_dataset/digit_325.jpg  \n",
            "  inflating: BDRW_dataset/digit_326.jpg  \n",
            "  inflating: BDRW_dataset/digit_327.jpg  \n",
            "  inflating: BDRW_dataset/digit_328.jpg  \n",
            "  inflating: BDRW_dataset/digit_329.jpg  \n",
            "  inflating: BDRW_dataset/digit_33.jpg  \n",
            "  inflating: BDRW_dataset/digit_330.jpg  \n",
            "  inflating: BDRW_dataset/digit_331.jpg  \n",
            "  inflating: BDRW_dataset/digit_332.jpg  \n",
            "  inflating: BDRW_dataset/digit_333.jpg  \n",
            "  inflating: BDRW_dataset/digit_335.jpg  \n",
            "  inflating: BDRW_dataset/digit_336.jpg  \n",
            "  inflating: BDRW_dataset/digit_338.jpg  \n",
            "  inflating: BDRW_dataset/digit_339.jpg  \n",
            "  inflating: BDRW_dataset/digit_340.jpg  \n",
            "  inflating: BDRW_dataset/digit_341.jpg  \n",
            "  inflating: BDRW_dataset/digit_342.jpg  \n",
            "  inflating: BDRW_dataset/digit_343.jpg  \n",
            "  inflating: BDRW_dataset/digit_344.jpg  \n",
            "  inflating: BDRW_dataset/digit_345.jpg  \n",
            "  inflating: BDRW_dataset/digit_346.jpg  \n",
            "  inflating: BDRW_dataset/digit_347.jpg  \n",
            "  inflating: BDRW_dataset/digit_348.jpg  \n",
            "  inflating: BDRW_dataset/digit_349.jpg  \n",
            "  inflating: BDRW_dataset/digit_35.jpg  \n",
            "  inflating: BDRW_dataset/digit_350.jpg  \n",
            "  inflating: BDRW_dataset/digit_352.jpg  \n",
            "  inflating: BDRW_dataset/digit_353.jpg  \n",
            "  inflating: BDRW_dataset/digit_354.jpg  \n",
            "  inflating: BDRW_dataset/digit_355.jpg  \n",
            "  inflating: BDRW_dataset/digit_356.jpg  \n",
            "  inflating: BDRW_dataset/digit_357.jpg  \n",
            "  inflating: BDRW_dataset/digit_358.jpg  \n",
            "  inflating: BDRW_dataset/digit_359.jpg  \n",
            "  inflating: BDRW_dataset/digit_36.jpg  \n",
            "  inflating: BDRW_dataset/digit_361.jpg  \n",
            "  inflating: BDRW_dataset/digit_362.jpg  \n",
            "  inflating: BDRW_dataset/digit_363.jpg  \n",
            "  inflating: BDRW_dataset/digit_364.jpg  \n",
            "  inflating: BDRW_dataset/digit_365.jpg  \n",
            "  inflating: BDRW_dataset/digit_366.jpg  \n",
            "  inflating: BDRW_dataset/digit_367.jpg  \n",
            "  inflating: BDRW_dataset/digit_368.jpg  \n",
            "  inflating: BDRW_dataset/digit_369.jpg  \n",
            "  inflating: BDRW_dataset/digit_37.jpg  \n",
            "  inflating: BDRW_dataset/digit_370.jpg  \n",
            "  inflating: BDRW_dataset/digit_371.jpg  \n",
            "  inflating: BDRW_dataset/digit_372.jpg  \n",
            "  inflating: BDRW_dataset/digit_373.jpg  \n",
            "  inflating: BDRW_dataset/digit_374.jpg  \n",
            "  inflating: BDRW_dataset/digit_375.jpg  \n",
            "  inflating: BDRW_dataset/digit_376.jpg  \n",
            "  inflating: BDRW_dataset/digit_377.jpg  \n",
            "  inflating: BDRW_dataset/digit_378.jpg  \n",
            "  inflating: BDRW_dataset/digit_379.jpg  \n",
            "  inflating: BDRW_dataset/digit_38.jpg  \n",
            "  inflating: BDRW_dataset/digit_380.jpg  \n",
            "  inflating: BDRW_dataset/digit_381.jpg  \n",
            "  inflating: BDRW_dataset/digit_382.jpg  \n",
            "  inflating: BDRW_dataset/digit_383.jpg  \n",
            "  inflating: BDRW_dataset/digit_384.jpg  \n",
            "  inflating: BDRW_dataset/digit_385.jpg  \n",
            "  inflating: BDRW_dataset/digit_386.jpg  \n",
            "  inflating: BDRW_dataset/digit_387.jpg  \n",
            "  inflating: BDRW_dataset/digit_388.jpg  \n",
            "  inflating: BDRW_dataset/digit_389.jpg  \n",
            "  inflating: BDRW_dataset/digit_39.jpg  \n",
            "  inflating: BDRW_dataset/digit_390.jpg  \n",
            "  inflating: BDRW_dataset/digit_391.jpg  \n",
            "  inflating: BDRW_dataset/digit_392.jpg  \n",
            "  inflating: BDRW_dataset/digit_393.jpg  \n",
            "  inflating: BDRW_dataset/digit_394.jpg  \n",
            "  inflating: BDRW_dataset/digit_395.jpg  \n",
            "  inflating: BDRW_dataset/digit_396.jpg  \n",
            "  inflating: BDRW_dataset/digit_397.jpg  \n",
            "  inflating: BDRW_dataset/digit_398.jpg  \n",
            "  inflating: BDRW_dataset/digit_399.jpg  \n",
            "  inflating: BDRW_dataset/digit_4.jpg  \n",
            "  inflating: BDRW_dataset/digit_40.jpg  \n",
            "  inflating: BDRW_dataset/digit_400.jpg  \n",
            "  inflating: BDRW_dataset/digit_401.jpg  \n",
            "  inflating: BDRW_dataset/digit_402.jpg  \n",
            "  inflating: BDRW_dataset/digit_403.jpg  \n",
            "  inflating: BDRW_dataset/digit_404.jpg  \n",
            "  inflating: BDRW_dataset/digit_405.jpg  \n",
            "  inflating: BDRW_dataset/digit_406.jpg  \n",
            "  inflating: BDRW_dataset/digit_407.jpg  \n",
            "  inflating: BDRW_dataset/digit_409.jpg  \n",
            "  inflating: BDRW_dataset/digit_41.jpg  \n",
            "  inflating: BDRW_dataset/digit_410.jpg  \n",
            "  inflating: BDRW_dataset/digit_412.jpg  \n",
            "  inflating: BDRW_dataset/digit_414.jpg  \n",
            "  inflating: BDRW_dataset/digit_415.jpg  \n",
            "  inflating: BDRW_dataset/digit_417.jpg  \n",
            "  inflating: BDRW_dataset/digit_419.jpg  \n",
            "  inflating: BDRW_dataset/digit_42.jpg  \n",
            "  inflating: BDRW_dataset/digit_420.jpg  \n",
            "  inflating: BDRW_dataset/digit_421.jpg  \n",
            "  inflating: BDRW_dataset/digit_422.jpg  \n",
            "  inflating: BDRW_dataset/digit_423.jpg  \n",
            "  inflating: BDRW_dataset/digit_424.jpg  \n",
            "  inflating: BDRW_dataset/digit_425.jpg  \n",
            "  inflating: BDRW_dataset/digit_426.jpg  \n",
            "  inflating: BDRW_dataset/digit_427.jpg  \n",
            "  inflating: BDRW_dataset/digit_428.jpg  \n",
            "  inflating: BDRW_dataset/digit_429.jpg  \n",
            "  inflating: BDRW_dataset/digit_43.jpg  \n",
            "  inflating: BDRW_dataset/digit_430.jpg  \n",
            "  inflating: BDRW_dataset/digit_431.jpg  \n",
            "  inflating: BDRW_dataset/digit_432.jpg  \n",
            "  inflating: BDRW_dataset/digit_433.jpg  \n",
            "  inflating: BDRW_dataset/digit_434.jpg  \n",
            "  inflating: BDRW_dataset/digit_435.jpg  \n",
            "  inflating: BDRW_dataset/digit_436.jpg  \n",
            "  inflating: BDRW_dataset/digit_437.jpg  \n",
            "  inflating: BDRW_dataset/digit_438.jpg  \n",
            "  inflating: BDRW_dataset/digit_439.jpg  \n",
            "  inflating: BDRW_dataset/digit_44.jpg  \n",
            "  inflating: BDRW_dataset/digit_440.jpg  \n",
            "  inflating: BDRW_dataset/digit_441.jpg  \n",
            "  inflating: BDRW_dataset/digit_442.jpg  \n",
            "  inflating: BDRW_dataset/digit_443.jpg  \n",
            "  inflating: BDRW_dataset/digit_444.jpg  \n",
            "  inflating: BDRW_dataset/digit_446.jpg  \n",
            "  inflating: BDRW_dataset/digit_447.jpg  \n",
            "  inflating: BDRW_dataset/digit_448.jpg  \n",
            "  inflating: BDRW_dataset/digit_449.jpg  \n",
            "  inflating: BDRW_dataset/digit_45.jpg  \n",
            "  inflating: BDRW_dataset/digit_450.jpg  \n",
            "  inflating: BDRW_dataset/digit_451.jpg  \n",
            "  inflating: BDRW_dataset/digit_452.jpg  \n",
            "  inflating: BDRW_dataset/digit_453.jpg  \n",
            "  inflating: BDRW_dataset/digit_454.jpg  \n",
            "  inflating: BDRW_dataset/digit_455.jpg  \n",
            "  inflating: BDRW_dataset/digit_458.jpg  \n",
            "  inflating: BDRW_dataset/digit_459.jpg  \n",
            "  inflating: BDRW_dataset/digit_46.jpg  \n",
            "  inflating: BDRW_dataset/digit_460.jpg  \n",
            "  inflating: BDRW_dataset/digit_461.jpg  \n",
            "  inflating: BDRW_dataset/digit_462.jpg  \n",
            "  inflating: BDRW_dataset/digit_463.jpg  \n",
            "  inflating: BDRW_dataset/digit_464.jpg  \n",
            "  inflating: BDRW_dataset/digit_467.jpg  \n",
            "  inflating: BDRW_dataset/digit_468.jpg  \n",
            "  inflating: BDRW_dataset/digit_469.jpg  \n",
            "  inflating: BDRW_dataset/digit_47.jpg  \n",
            "  inflating: BDRW_dataset/digit_470.jpg  \n",
            "  inflating: BDRW_dataset/digit_471.jpg  \n",
            "  inflating: BDRW_dataset/digit_473.jpg  \n",
            "  inflating: BDRW_dataset/digit_474.jpg  \n",
            "  inflating: BDRW_dataset/digit_475.jpg  \n",
            "  inflating: BDRW_dataset/digit_476.jpg  \n",
            "  inflating: BDRW_dataset/digit_477.jpg  \n",
            "  inflating: BDRW_dataset/digit_478.jpg  \n",
            "  inflating: BDRW_dataset/digit_479.jpg  \n",
            "  inflating: BDRW_dataset/digit_48.jpg  \n",
            "  inflating: BDRW_dataset/digit_480.jpg  \n",
            "  inflating: BDRW_dataset/digit_481.jpg  \n",
            "  inflating: BDRW_dataset/digit_482.jpg  \n",
            "  inflating: BDRW_dataset/digit_483.jpg  \n",
            "  inflating: BDRW_dataset/digit_484.jpg  \n",
            "  inflating: BDRW_dataset/digit_485.jpg  \n",
            "  inflating: BDRW_dataset/digit_486.jpg  \n",
            "  inflating: BDRW_dataset/digit_487.jpg  \n",
            "  inflating: BDRW_dataset/digit_488.jpg  \n",
            "  inflating: BDRW_dataset/digit_489.jpg  \n",
            "  inflating: BDRW_dataset/digit_49.jpg  \n",
            "  inflating: BDRW_dataset/digit_490.jpg  \n",
            "  inflating: BDRW_dataset/digit_491.jpg  \n",
            "  inflating: BDRW_dataset/digit_492.jpg  \n",
            "  inflating: BDRW_dataset/digit_493.jpg  \n",
            "  inflating: BDRW_dataset/digit_494.jpg  \n",
            "  inflating: BDRW_dataset/digit_495.jpg  \n",
            "  inflating: BDRW_dataset/digit_496.jpg  \n",
            "  inflating: BDRW_dataset/digit_497.jpg  \n",
            "  inflating: BDRW_dataset/digit_498.jpg  \n",
            "  inflating: BDRW_dataset/digit_499.jpg  \n",
            "  inflating: BDRW_dataset/digit_5.jpg  \n",
            "  inflating: BDRW_dataset/digit_500.jpg  \n",
            "  inflating: BDRW_dataset/digit_501.jpg  \n",
            "  inflating: BDRW_dataset/digit_502.jpg  \n",
            "  inflating: BDRW_dataset/digit_503.jpg  \n",
            "  inflating: BDRW_dataset/digit_504.jpg  \n",
            "  inflating: BDRW_dataset/digit_505.jpg  \n",
            "  inflating: BDRW_dataset/digit_506.jpg  \n",
            "  inflating: BDRW_dataset/digit_507.jpg  \n",
            "  inflating: BDRW_dataset/digit_508.jpg  \n",
            "  inflating: BDRW_dataset/digit_509.jpg  \n",
            "  inflating: BDRW_dataset/digit_51.jpg  \n",
            "  inflating: BDRW_dataset/digit_510.jpg  \n",
            "  inflating: BDRW_dataset/digit_511.jpg  \n",
            "  inflating: BDRW_dataset/digit_512.jpg  \n",
            "  inflating: BDRW_dataset/digit_513.jpg  \n",
            "  inflating: BDRW_dataset/digit_514.jpg  \n",
            "  inflating: BDRW_dataset/digit_515.jpg  \n",
            "  inflating: BDRW_dataset/digit_516.jpg  \n",
            "  inflating: BDRW_dataset/digit_517.jpg  \n",
            "  inflating: BDRW_dataset/digit_518.jpg  \n",
            "  inflating: BDRW_dataset/digit_519.jpg  \n",
            "  inflating: BDRW_dataset/digit_52.jpg  \n",
            "  inflating: BDRW_dataset/digit_521.jpg  \n",
            "  inflating: BDRW_dataset/digit_522.jpg  \n",
            "  inflating: BDRW_dataset/digit_523.jpg  \n",
            "  inflating: BDRW_dataset/digit_524.jpg  \n",
            "  inflating: BDRW_dataset/digit_525.jpg  \n",
            "  inflating: BDRW_dataset/digit_527.jpg  \n",
            "  inflating: BDRW_dataset/digit_528.jpg  \n",
            "  inflating: BDRW_dataset/digit_529.jpg  \n",
            "  inflating: BDRW_dataset/digit_53.jpg  \n",
            "  inflating: BDRW_dataset/digit_530.jpg  \n",
            "  inflating: BDRW_dataset/digit_531.jpg  \n",
            "  inflating: BDRW_dataset/digit_532.jpg  \n",
            "  inflating: BDRW_dataset/digit_533.jpg  \n",
            "  inflating: BDRW_dataset/digit_534.jpg  \n",
            "  inflating: BDRW_dataset/digit_535.jpg  \n",
            "  inflating: BDRW_dataset/digit_536.jpg  \n",
            "  inflating: BDRW_dataset/digit_537.jpg  \n",
            "  inflating: BDRW_dataset/digit_538.jpg  \n",
            "  inflating: BDRW_dataset/digit_539.jpg  \n",
            "  inflating: BDRW_dataset/digit_54.jpg  \n",
            "  inflating: BDRW_dataset/digit_540.jpg  \n",
            "  inflating: BDRW_dataset/digit_541.jpg  \n",
            "  inflating: BDRW_dataset/digit_542.jpg  \n",
            "  inflating: BDRW_dataset/digit_543.jpg  \n",
            "  inflating: BDRW_dataset/digit_544.jpg  \n",
            "  inflating: BDRW_dataset/digit_545.jpg  \n",
            "  inflating: BDRW_dataset/digit_547.jpg  \n",
            "  inflating: BDRW_dataset/digit_548.jpg  \n",
            "  inflating: BDRW_dataset/digit_549.jpg  \n",
            "  inflating: BDRW_dataset/digit_55.jpg  \n",
            "  inflating: BDRW_dataset/digit_551.jpg  \n",
            "  inflating: BDRW_dataset/digit_552.jpg  \n",
            "  inflating: BDRW_dataset/digit_553.jpg  \n",
            "  inflating: BDRW_dataset/digit_554.jpg  \n",
            "  inflating: BDRW_dataset/digit_555.jpg  \n",
            "  inflating: BDRW_dataset/digit_556.jpg  \n",
            "  inflating: BDRW_dataset/digit_557.jpg  \n",
            "  inflating: BDRW_dataset/digit_558.jpg  \n",
            "  inflating: BDRW_dataset/digit_559.jpg  \n",
            "  inflating: BDRW_dataset/digit_56.jpg  \n",
            "  inflating: BDRW_dataset/digit_560.jpg  \n",
            "  inflating: BDRW_dataset/digit_561.jpg  \n",
            "  inflating: BDRW_dataset/digit_562.jpg  \n",
            "  inflating: BDRW_dataset/digit_563.jpg  \n",
            "  inflating: BDRW_dataset/digit_564.jpg  \n",
            "  inflating: BDRW_dataset/digit_565.jpg  \n",
            "  inflating: BDRW_dataset/digit_567.jpg  \n",
            "  inflating: BDRW_dataset/digit_568.jpg  \n",
            "  inflating: BDRW_dataset/digit_569.jpg  \n",
            "  inflating: BDRW_dataset/digit_57.jpg  \n",
            "  inflating: BDRW_dataset/digit_570.jpg  \n",
            "  inflating: BDRW_dataset/digit_571.jpg  \n",
            "  inflating: BDRW_dataset/digit_572.jpg  \n",
            "  inflating: BDRW_dataset/digit_574.jpg  \n",
            "  inflating: BDRW_dataset/digit_575.jpg  \n",
            "  inflating: BDRW_dataset/digit_576.jpg  \n",
            "  inflating: BDRW_dataset/digit_577.jpg  \n",
            "  inflating: BDRW_dataset/digit_578.jpg  \n",
            "  inflating: BDRW_dataset/digit_579.jpg  \n",
            "  inflating: BDRW_dataset/digit_58.jpg  \n",
            "  inflating: BDRW_dataset/digit_580.jpg  \n",
            "  inflating: BDRW_dataset/digit_581.jpg  \n",
            "  inflating: BDRW_dataset/digit_582.jpg  \n",
            "  inflating: BDRW_dataset/digit_584.jpg  \n",
            "  inflating: BDRW_dataset/digit_585.jpg  \n",
            "  inflating: BDRW_dataset/digit_586.jpg  \n",
            "  inflating: BDRW_dataset/digit_588.jpg  \n",
            "  inflating: BDRW_dataset/digit_589.jpg  \n",
            "  inflating: BDRW_dataset/digit_59.jpg  \n",
            "  inflating: BDRW_dataset/digit_590.jpg  \n",
            "  inflating: BDRW_dataset/digit_591.jpg  \n",
            "  inflating: BDRW_dataset/digit_592.jpg  \n",
            "  inflating: BDRW_dataset/digit_593.jpg  \n",
            "  inflating: BDRW_dataset/digit_594.jpg  \n",
            "  inflating: BDRW_dataset/digit_596.jpg  \n",
            "  inflating: BDRW_dataset/digit_597.jpg  \n",
            "  inflating: BDRW_dataset/digit_598.jpg  \n",
            "  inflating: BDRW_dataset/digit_599.jpg  \n",
            "  inflating: BDRW_dataset/digit_6.jpg  \n",
            "  inflating: BDRW_dataset/digit_60.jpg  \n",
            "  inflating: BDRW_dataset/digit_601.jpg  \n",
            "  inflating: BDRW_dataset/digit_603.jpg  \n",
            "  inflating: BDRW_dataset/digit_604.jpg  \n",
            "  inflating: BDRW_dataset/digit_605.jpg  \n",
            "  inflating: BDRW_dataset/digit_606.jpg  \n",
            "  inflating: BDRW_dataset/digit_607.jpg  \n",
            "  inflating: BDRW_dataset/digit_608.jpg  \n",
            "  inflating: BDRW_dataset/digit_609.jpg  \n",
            "  inflating: BDRW_dataset/digit_61.jpg  \n",
            "  inflating: BDRW_dataset/digit_610.jpg  \n",
            "  inflating: BDRW_dataset/digit_611.jpg  \n",
            "  inflating: BDRW_dataset/digit_612.jpg  \n",
            "  inflating: BDRW_dataset/digit_614.jpg  \n",
            "  inflating: BDRW_dataset/digit_616.jpg  \n",
            "  inflating: BDRW_dataset/digit_617.jpg  \n",
            "  inflating: BDRW_dataset/digit_618.jpg  \n",
            "  inflating: BDRW_dataset/digit_619.jpg  \n",
            "  inflating: BDRW_dataset/digit_62.jpg  \n",
            "  inflating: BDRW_dataset/digit_620.jpg  \n",
            "  inflating: BDRW_dataset/digit_621.jpg  \n",
            "  inflating: BDRW_dataset/digit_622.jpg  \n",
            "  inflating: BDRW_dataset/digit_623.jpg  \n",
            "  inflating: BDRW_dataset/digit_624.jpg  \n",
            "  inflating: BDRW_dataset/digit_625.jpg  \n",
            "  inflating: BDRW_dataset/digit_626.jpg  \n",
            "  inflating: BDRW_dataset/digit_627.jpg  \n",
            "  inflating: BDRW_dataset/digit_628.jpg  \n",
            "  inflating: BDRW_dataset/digit_629.jpg  \n",
            "  inflating: BDRW_dataset/digit_63.jpg  \n",
            "  inflating: BDRW_dataset/digit_630.jpg  \n",
            "  inflating: BDRW_dataset/digit_632.jpg  \n",
            "  inflating: BDRW_dataset/digit_633.jpg  \n",
            "  inflating: BDRW_dataset/digit_634.jpg  \n",
            "  inflating: BDRW_dataset/digit_635.jpg  \n",
            "  inflating: BDRW_dataset/digit_636.jpg  \n",
            "  inflating: BDRW_dataset/digit_637.jpg  \n",
            "  inflating: BDRW_dataset/digit_638.jpg  \n",
            "  inflating: BDRW_dataset/digit_64.jpg  \n",
            "  inflating: BDRW_dataset/digit_640.jpg  \n",
            "  inflating: BDRW_dataset/digit_641.jpg  \n",
            "  inflating: BDRW_dataset/digit_642.jpg  \n",
            "  inflating: BDRW_dataset/digit_643.jpg  \n",
            "  inflating: BDRW_dataset/digit_644.jpg  \n",
            "  inflating: BDRW_dataset/digit_645.jpg  \n",
            "  inflating: BDRW_dataset/digit_646.jpg  \n",
            "  inflating: BDRW_dataset/digit_647.jpg  \n",
            "  inflating: BDRW_dataset/digit_649.jpg  \n",
            "  inflating: BDRW_dataset/digit_65.jpg  \n",
            "  inflating: BDRW_dataset/digit_650.jpg  \n",
            "  inflating: BDRW_dataset/digit_651.jpg  \n",
            "  inflating: BDRW_dataset/digit_652.jpg  \n",
            "  inflating: BDRW_dataset/digit_653.jpg  \n",
            "  inflating: BDRW_dataset/digit_654.jpg  \n",
            "  inflating: BDRW_dataset/digit_655.jpg  \n",
            "  inflating: BDRW_dataset/digit_656.jpg  \n",
            "  inflating: BDRW_dataset/digit_658.jpg  \n",
            "  inflating: BDRW_dataset/digit_659.jpg  \n",
            "  inflating: BDRW_dataset/digit_66.jpg  \n",
            "  inflating: BDRW_dataset/digit_660.jpg  \n",
            "  inflating: BDRW_dataset/digit_661.jpg  \n",
            "  inflating: BDRW_dataset/digit_662.jpg  \n",
            "  inflating: BDRW_dataset/digit_663.jpg  \n",
            "  inflating: BDRW_dataset/digit_664.jpg  \n",
            "  inflating: BDRW_dataset/digit_665.jpg  \n",
            "  inflating: BDRW_dataset/digit_666.jpg  \n",
            "  inflating: BDRW_dataset/digit_667.jpg  \n",
            "  inflating: BDRW_dataset/digit_668.jpg  \n",
            "  inflating: BDRW_dataset/digit_669.jpg  \n",
            "  inflating: BDRW_dataset/digit_67.jpg  \n",
            "  inflating: BDRW_dataset/digit_670.jpg  \n",
            "  inflating: BDRW_dataset/digit_671.jpg  \n",
            "  inflating: BDRW_dataset/digit_672.jpg  \n",
            "  inflating: BDRW_dataset/digit_673.jpg  \n",
            "  inflating: BDRW_dataset/digit_675.jpg  \n",
            "  inflating: BDRW_dataset/digit_676.jpg  \n",
            "  inflating: BDRW_dataset/digit_677.jpg  \n",
            "  inflating: BDRW_dataset/digit_678.jpg  \n",
            "  inflating: BDRW_dataset/digit_679.jpg  \n",
            "  inflating: BDRW_dataset/digit_68.jpg  \n",
            "  inflating: BDRW_dataset/digit_680.jpg  \n",
            "  inflating: BDRW_dataset/digit_681.jpg  \n",
            "  inflating: BDRW_dataset/digit_682.jpg  \n",
            "  inflating: BDRW_dataset/digit_683.jpg  \n",
            "  inflating: BDRW_dataset/digit_684.jpg  \n",
            "  inflating: BDRW_dataset/digit_685.jpg  \n",
            "  inflating: BDRW_dataset/digit_686.jpg  \n",
            "  inflating: BDRW_dataset/digit_687.jpg  \n",
            "  inflating: BDRW_dataset/digit_688.jpg  \n",
            "  inflating: BDRW_dataset/digit_689.jpg  \n",
            "  inflating: BDRW_dataset/digit_690.jpg  \n",
            "  inflating: BDRW_dataset/digit_691.jpg  \n",
            "  inflating: BDRW_dataset/digit_692.jpg  \n",
            "  inflating: BDRW_dataset/digit_693.jpg  \n",
            "  inflating: BDRW_dataset/digit_694.jpg  \n",
            "  inflating: BDRW_dataset/digit_695.jpg  \n",
            "  inflating: BDRW_dataset/digit_696.jpg  \n",
            "  inflating: BDRW_dataset/digit_697.jpg  \n",
            "  inflating: BDRW_dataset/digit_698.jpg  \n",
            "  inflating: BDRW_dataset/digit_699.jpg  \n",
            "  inflating: BDRW_dataset/digit_7.jpg  \n",
            "  inflating: BDRW_dataset/digit_70.jpg  \n",
            "  inflating: BDRW_dataset/digit_700.jpg  \n",
            "  inflating: BDRW_dataset/digit_701.jpg  \n",
            "  inflating: BDRW_dataset/digit_702.jpg  \n",
            "  inflating: BDRW_dataset/digit_703.jpg  \n",
            "  inflating: BDRW_dataset/digit_704.jpg  \n",
            "  inflating: BDRW_dataset/digit_705.jpg  \n",
            "  inflating: BDRW_dataset/digit_707.jpg  \n",
            "  inflating: BDRW_dataset/digit_708.jpg  \n",
            "  inflating: BDRW_dataset/digit_709.jpg  \n",
            "  inflating: BDRW_dataset/digit_71.jpg  \n",
            "  inflating: BDRW_dataset/digit_710.jpg  \n",
            "  inflating: BDRW_dataset/digit_711.jpg  \n",
            "  inflating: BDRW_dataset/digit_712.jpg  \n",
            "  inflating: BDRW_dataset/digit_713.jpg  \n",
            "  inflating: BDRW_dataset/digit_714.jpg  \n",
            "  inflating: BDRW_dataset/digit_715.jpg  \n",
            "  inflating: BDRW_dataset/digit_717.jpg  \n",
            "  inflating: BDRW_dataset/digit_718.jpg  \n",
            "  inflating: BDRW_dataset/digit_719.jpg  \n",
            "  inflating: BDRW_dataset/digit_72.jpg  \n",
            "  inflating: BDRW_dataset/digit_720.jpg  \n",
            "  inflating: BDRW_dataset/digit_721.jpg  \n",
            "  inflating: BDRW_dataset/digit_722.jpg  \n",
            "  inflating: BDRW_dataset/digit_723.jpg  \n",
            "  inflating: BDRW_dataset/digit_724.jpg  \n",
            "  inflating: BDRW_dataset/digit_725.jpg  \n",
            "  inflating: BDRW_dataset/digit_726.jpg  \n",
            "  inflating: BDRW_dataset/digit_729.jpg  \n",
            "  inflating: BDRW_dataset/digit_73.jpg  \n",
            "  inflating: BDRW_dataset/digit_730.jpg  \n",
            "  inflating: BDRW_dataset/digit_731.jpg  \n",
            "  inflating: BDRW_dataset/digit_732.jpg  \n",
            "  inflating: BDRW_dataset/digit_733.jpg  \n",
            "  inflating: BDRW_dataset/digit_734.jpg  \n",
            "  inflating: BDRW_dataset/digit_735.jpg  \n",
            "  inflating: BDRW_dataset/digit_736.jpg  \n",
            "  inflating: BDRW_dataset/digit_737.jpg  \n",
            "  inflating: BDRW_dataset/digit_738.jpg  \n",
            "  inflating: BDRW_dataset/digit_739.jpg  \n",
            "  inflating: BDRW_dataset/digit_74.jpg  \n",
            "  inflating: BDRW_dataset/digit_740.jpg  \n",
            "  inflating: BDRW_dataset/digit_741.jpg  \n",
            "  inflating: BDRW_dataset/digit_742.jpg  \n",
            "  inflating: BDRW_dataset/digit_743.jpg  \n",
            "  inflating: BDRW_dataset/digit_744.jpg  \n",
            "  inflating: BDRW_dataset/digit_745.jpg  \n",
            "  inflating: BDRW_dataset/digit_746.jpg  \n",
            "  inflating: BDRW_dataset/digit_747.jpg  \n",
            "  inflating: BDRW_dataset/digit_748.jpg  \n",
            "  inflating: BDRW_dataset/digit_749.jpg  \n",
            "  inflating: BDRW_dataset/digit_75.jpg  \n",
            "  inflating: BDRW_dataset/digit_750.jpg  \n",
            "  inflating: BDRW_dataset/digit_753.jpg  \n",
            "  inflating: BDRW_dataset/digit_754.jpg  \n",
            "  inflating: BDRW_dataset/digit_755.jpg  \n",
            "  inflating: BDRW_dataset/digit_757.jpg  \n",
            "  inflating: BDRW_dataset/digit_759.jpg  \n",
            "  inflating: BDRW_dataset/digit_760.jpg  \n",
            "  inflating: BDRW_dataset/digit_762.jpg  \n",
            "  inflating: BDRW_dataset/digit_763.jpg  \n",
            "  inflating: BDRW_dataset/digit_764.jpg  \n",
            "  inflating: BDRW_dataset/digit_765.jpg  \n",
            "  inflating: BDRW_dataset/digit_766.jpg  \n",
            "  inflating: BDRW_dataset/digit_767.jpg  \n",
            "  inflating: BDRW_dataset/digit_769.jpg  \n",
            "  inflating: BDRW_dataset/digit_770.jpg  \n",
            "  inflating: BDRW_dataset/digit_771.jpg  \n",
            "  inflating: BDRW_dataset/digit_773.jpg  \n",
            "  inflating: BDRW_dataset/digit_774.jpg  \n",
            "  inflating: BDRW_dataset/digit_775.jpg  \n",
            "  inflating: BDRW_dataset/digit_776.jpg  \n",
            "  inflating: BDRW_dataset/digit_777.jpg  \n",
            "  inflating: BDRW_dataset/digit_778.jpg  \n",
            "  inflating: BDRW_dataset/digit_779.jpg  \n",
            "  inflating: BDRW_dataset/digit_78.jpg  \n",
            "  inflating: BDRW_dataset/digit_780.jpg  \n",
            "  inflating: BDRW_dataset/digit_782.jpg  \n",
            "  inflating: BDRW_dataset/digit_783.jpg  \n",
            "  inflating: BDRW_dataset/digit_785.jpg  \n",
            "  inflating: BDRW_dataset/digit_786.jpg  \n",
            "  inflating: BDRW_dataset/digit_787.jpg  \n",
            "  inflating: BDRW_dataset/digit_788.jpg  \n",
            "  inflating: BDRW_dataset/digit_789.jpg  \n",
            "  inflating: BDRW_dataset/digit_79.jpg  \n",
            "  inflating: BDRW_dataset/digit_790.jpg  \n",
            "  inflating: BDRW_dataset/digit_791.jpg  \n",
            "  inflating: BDRW_dataset/digit_792.jpg  \n",
            "  inflating: BDRW_dataset/digit_793.jpg  \n",
            "  inflating: BDRW_dataset/digit_794.jpg  \n",
            "  inflating: BDRW_dataset/digit_795.jpg  \n",
            "  inflating: BDRW_dataset/digit_796.jpg  \n",
            "  inflating: BDRW_dataset/digit_797.jpg  \n",
            "  inflating: BDRW_dataset/digit_799.jpg  \n",
            "  inflating: BDRW_dataset/digit_8.jpg  \n",
            "  inflating: BDRW_dataset/digit_80.jpg  \n",
            "  inflating: BDRW_dataset/digit_800.jpg  \n",
            "  inflating: BDRW_dataset/digit_801.jpg  \n",
            "  inflating: BDRW_dataset/digit_803.jpg  \n",
            "  inflating: BDRW_dataset/digit_805.jpg  \n",
            "  inflating: BDRW_dataset/digit_806.jpg  \n",
            "  inflating: BDRW_dataset/digit_807.jpg  \n",
            "  inflating: BDRW_dataset/digit_808.jpg  \n",
            "  inflating: BDRW_dataset/digit_809.jpg  \n",
            "  inflating: BDRW_dataset/digit_81.jpg  \n",
            "  inflating: BDRW_dataset/digit_810.jpg  \n",
            "  inflating: BDRW_dataset/digit_811.jpg  \n",
            "  inflating: BDRW_dataset/digit_812.jpg  \n",
            "  inflating: BDRW_dataset/digit_813.jpg  \n",
            "  inflating: BDRW_dataset/digit_814.jpg  \n",
            "  inflating: BDRW_dataset/digit_815.jpg  \n",
            "  inflating: BDRW_dataset/digit_816.jpg  \n",
            "  inflating: BDRW_dataset/digit_817.jpg  \n",
            "  inflating: BDRW_dataset/digit_818.jpg  \n",
            "  inflating: BDRW_dataset/digit_819.jpg  \n",
            "  inflating: BDRW_dataset/digit_820.jpg  \n",
            "  inflating: BDRW_dataset/digit_821.jpg  \n",
            "  inflating: BDRW_dataset/digit_822.jpg  \n",
            "  inflating: BDRW_dataset/digit_823.jpg  \n",
            "  inflating: BDRW_dataset/digit_824.jpg  \n",
            "  inflating: BDRW_dataset/digit_825.jpg  \n",
            "  inflating: BDRW_dataset/digit_826.jpg  \n",
            "  inflating: BDRW_dataset/digit_828.jpg  \n",
            "  inflating: BDRW_dataset/digit_829.jpg  \n",
            "  inflating: BDRW_dataset/digit_83.jpg  \n",
            "  inflating: BDRW_dataset/digit_830.jpg  \n",
            "  inflating: BDRW_dataset/digit_831.jpg  \n",
            "  inflating: BDRW_dataset/digit_833.jpg  \n",
            "  inflating: BDRW_dataset/digit_834.jpg  \n",
            "  inflating: BDRW_dataset/digit_835.jpg  \n",
            "  inflating: BDRW_dataset/digit_837.jpg  \n",
            "  inflating: BDRW_dataset/digit_838.jpg  \n",
            "  inflating: BDRW_dataset/digit_839.jpg  \n",
            "  inflating: BDRW_dataset/digit_84.jpg  \n",
            "  inflating: BDRW_dataset/digit_841.jpg  \n",
            "  inflating: BDRW_dataset/digit_842.jpg  \n",
            "  inflating: BDRW_dataset/digit_843.jpg  \n",
            "  inflating: BDRW_dataset/digit_844.jpg  \n",
            "  inflating: BDRW_dataset/digit_845.jpg  \n",
            "  inflating: BDRW_dataset/digit_846.jpg  \n",
            "  inflating: BDRW_dataset/digit_847.jpg  \n",
            "  inflating: BDRW_dataset/digit_848.jpg  \n",
            "  inflating: BDRW_dataset/digit_849.jpg  \n",
            "  inflating: BDRW_dataset/digit_85.jpg  \n",
            "  inflating: BDRW_dataset/digit_850.jpg  \n",
            "  inflating: BDRW_dataset/digit_851.jpg  \n",
            "  inflating: BDRW_dataset/digit_852.jpg  \n",
            "  inflating: BDRW_dataset/digit_853.jpg  \n",
            "  inflating: BDRW_dataset/digit_854.jpg  \n",
            "  inflating: BDRW_dataset/digit_855.jpg  \n",
            "  inflating: BDRW_dataset/digit_856.jpg  \n",
            "  inflating: BDRW_dataset/digit_858.jpg  \n",
            "  inflating: BDRW_dataset/digit_859.jpg  \n",
            "  inflating: BDRW_dataset/digit_860.jpg  \n",
            "  inflating: BDRW_dataset/digit_861.jpg  \n",
            "  inflating: BDRW_dataset/digit_862.jpg  \n",
            "  inflating: BDRW_dataset/digit_863.jpg  \n",
            "  inflating: BDRW_dataset/digit_865.jpg  \n",
            "  inflating: BDRW_dataset/digit_866.jpg  \n",
            "  inflating: BDRW_dataset/digit_867.jpg  \n",
            "  inflating: BDRW_dataset/digit_868.jpg  \n",
            "  inflating: BDRW_dataset/digit_869.jpg  \n",
            "  inflating: BDRW_dataset/digit_87.jpg  \n",
            "  inflating: BDRW_dataset/digit_870.jpg  \n",
            "  inflating: BDRW_dataset/digit_871.jpg  \n",
            "  inflating: BDRW_dataset/digit_872.jpg  \n",
            "  inflating: BDRW_dataset/digit_873.jpg  \n",
            "  inflating: BDRW_dataset/digit_874.jpg  \n",
            "  inflating: BDRW_dataset/digit_875.jpg  \n",
            "  inflating: BDRW_dataset/digit_876.jpg  \n",
            "  inflating: BDRW_dataset/digit_878.jpg  \n",
            "  inflating: BDRW_dataset/digit_879.jpg  \n",
            "  inflating: BDRW_dataset/digit_88.jpg  \n",
            "  inflating: BDRW_dataset/digit_880.jpg  \n",
            "  inflating: BDRW_dataset/digit_881.jpg  \n",
            "  inflating: BDRW_dataset/digit_882.jpg  \n",
            "  inflating: BDRW_dataset/digit_883.jpg  \n",
            "  inflating: BDRW_dataset/digit_885.jpg  \n",
            "  inflating: BDRW_dataset/digit_886.jpg  \n",
            "  inflating: BDRW_dataset/digit_888.jpg  \n",
            "  inflating: BDRW_dataset/digit_889.jpg  \n",
            "  inflating: BDRW_dataset/digit_89.jpg  \n",
            "  inflating: BDRW_dataset/digit_890.jpg  \n",
            "  inflating: BDRW_dataset/digit_891.jpg  \n",
            "  inflating: BDRW_dataset/digit_892.jpg  \n",
            "  inflating: BDRW_dataset/digit_893.jpg  \n",
            "  inflating: BDRW_dataset/digit_894.jpg  \n",
            "  inflating: BDRW_dataset/digit_895.jpg  \n",
            "  inflating: BDRW_dataset/digit_896.jpg  \n",
            "  inflating: BDRW_dataset/digit_897.jpg  \n",
            "  inflating: BDRW_dataset/digit_898.jpg  \n",
            "  inflating: BDRW_dataset/digit_899.jpg  \n",
            "  inflating: BDRW_dataset/digit_9.jpg  \n",
            "  inflating: BDRW_dataset/digit_90.jpg  \n",
            "  inflating: BDRW_dataset/digit_900.jpg  \n",
            "  inflating: BDRW_dataset/digit_901.jpg  \n",
            "  inflating: BDRW_dataset/digit_902.jpg  \n",
            "  inflating: BDRW_dataset/digit_903.jpg  \n",
            "  inflating: BDRW_dataset/digit_904.jpg  \n",
            "  inflating: BDRW_dataset/digit_905.jpg  \n",
            "  inflating: BDRW_dataset/digit_906.jpg  \n",
            "  inflating: BDRW_dataset/digit_907.jpg  \n",
            "  inflating: BDRW_dataset/digit_908.jpg  \n",
            "  inflating: BDRW_dataset/digit_909.jpg  \n",
            "  inflating: BDRW_dataset/digit_91.jpg  \n",
            "  inflating: BDRW_dataset/digit_910.jpg  \n",
            "  inflating: BDRW_dataset/digit_911.jpg  \n",
            "  inflating: BDRW_dataset/digit_912.jpg  \n",
            "  inflating: BDRW_dataset/digit_913.jpg  \n",
            "  inflating: BDRW_dataset/digit_914.jpg  \n",
            "  inflating: BDRW_dataset/digit_916.jpg  \n",
            "  inflating: BDRW_dataset/digit_917.jpg  \n",
            "  inflating: BDRW_dataset/digit_918.jpg  \n",
            "  inflating: BDRW_dataset/digit_919.jpg  \n",
            "  inflating: BDRW_dataset/digit_92.jpg  \n",
            "  inflating: BDRW_dataset/digit_920.jpg  \n",
            "  inflating: BDRW_dataset/digit_921.jpg  \n",
            "  inflating: BDRW_dataset/digit_922.jpg  \n",
            "  inflating: BDRW_dataset/digit_923.jpg  \n",
            "  inflating: BDRW_dataset/digit_924.jpg  \n",
            "  inflating: BDRW_dataset/digit_925.jpg  \n",
            "  inflating: BDRW_dataset/digit_926.jpg  \n",
            "  inflating: BDRW_dataset/digit_927.jpg  \n",
            "  inflating: BDRW_dataset/digit_928.jpg  \n",
            "  inflating: BDRW_dataset/digit_929.jpg  \n",
            "  inflating: BDRW_dataset/digit_93.jpg  \n",
            "  inflating: BDRW_dataset/digit_930.jpg  \n",
            "  inflating: BDRW_dataset/digit_932.jpg  \n",
            "  inflating: BDRW_dataset/digit_933.jpg  \n",
            "  inflating: BDRW_dataset/digit_934.jpg  \n",
            "  inflating: BDRW_dataset/digit_935.jpg  \n",
            "  inflating: BDRW_dataset/digit_936.jpg  \n",
            "  inflating: BDRW_dataset/digit_938.jpg  \n",
            "  inflating: BDRW_dataset/digit_939.jpg  \n",
            "  inflating: BDRW_dataset/digit_94.jpg  \n",
            "  inflating: BDRW_dataset/digit_940.jpg  \n",
            "  inflating: BDRW_dataset/digit_941.jpg  \n",
            "  inflating: BDRW_dataset/digit_943.jpg  \n",
            "  inflating: BDRW_dataset/digit_944.jpg  \n",
            "  inflating: BDRW_dataset/digit_945.jpg  \n",
            "  inflating: BDRW_dataset/digit_946.jpg  \n",
            "  inflating: BDRW_dataset/digit_947.jpg  \n",
            "  inflating: BDRW_dataset/digit_948.jpg  \n",
            "  inflating: BDRW_dataset/digit_949.jpg  \n",
            "  inflating: BDRW_dataset/digit_95.jpg  \n",
            "  inflating: BDRW_dataset/digit_950.jpg  \n",
            "  inflating: BDRW_dataset/digit_951.jpg  \n",
            "  inflating: BDRW_dataset/digit_952.jpg  \n",
            "  inflating: BDRW_dataset/digit_954.jpg  \n",
            "  inflating: BDRW_dataset/digit_955.jpg  \n",
            "  inflating: BDRW_dataset/digit_956.jpg  \n",
            "  inflating: BDRW_dataset/digit_957.jpg  \n",
            "  inflating: BDRW_dataset/digit_958.jpg  \n",
            "  inflating: BDRW_dataset/digit_959.jpg  \n",
            "  inflating: BDRW_dataset/digit_96.jpg  \n",
            "  inflating: BDRW_dataset/digit_961.jpg  \n",
            "  inflating: BDRW_dataset/digit_962.jpg  \n",
            "  inflating: BDRW_dataset/digit_963.jpg  \n",
            "  inflating: BDRW_dataset/digit_964.jpg  \n",
            "  inflating: BDRW_dataset/digit_965.jpg  \n",
            "  inflating: BDRW_dataset/digit_966.jpg  \n",
            "  inflating: BDRW_dataset/digit_967.jpg  \n",
            "  inflating: BDRW_dataset/digit_968.jpg  \n",
            "  inflating: BDRW_dataset/digit_969.jpg  \n",
            "  inflating: BDRW_dataset/digit_97.jpg  \n",
            "  inflating: BDRW_dataset/digit_970.jpg  \n",
            "  inflating: BDRW_dataset/digit_971.jpg  \n",
            "  inflating: BDRW_dataset/digit_972.jpg  \n",
            "  inflating: BDRW_dataset/digit_973.jpg  \n",
            "  inflating: BDRW_dataset/digit_974.jpg  \n",
            "  inflating: BDRW_dataset/digit_975.jpg  \n",
            "  inflating: BDRW_dataset/digit_976.jpg  \n",
            "  inflating: BDRW_dataset/digit_977.jpg  \n",
            "  inflating: BDRW_dataset/digit_978.jpg  \n",
            "  inflating: BDRW_dataset/digit_979.jpg  \n",
            "  inflating: BDRW_dataset/digit_980.jpg  \n",
            "  inflating: BDRW_dataset/digit_981.jpg  \n",
            "  inflating: BDRW_dataset/digit_982.jpg  \n",
            "  inflating: BDRW_dataset/digit_983.jpg  \n",
            "  inflating: BDRW_dataset/digit_984.jpg  \n",
            "  inflating: BDRW_dataset/digit_985.jpg  \n",
            "  inflating: BDRW_dataset/digit_986.jpg  \n",
            "  inflating: BDRW_dataset/digit_987.jpg  \n",
            "  inflating: BDRW_dataset/digit_988.jpg  \n",
            "  inflating: BDRW_dataset/digit_989.jpg  \n",
            "  inflating: BDRW_dataset/digit_99.jpg  \n",
            "  inflating: BDRW_dataset/digit_990.jpg  \n",
            "  inflating: BDRW_dataset/digit_991.jpg  \n",
            "  inflating: BDRW_dataset/digit_992.jpg  \n",
            "  inflating: BDRW_dataset/digit_993.jpg  \n",
            "  inflating: BDRW_dataset/digit_994.jpg  \n",
            "  inflating: BDRW_dataset/digit_995.jpg  \n",
            "  inflating: BDRW_dataset/digit_996.jpg  \n",
            "  inflating: BDRW_dataset/digit_997.jpg  \n",
            "  inflating: BDRW_dataset/digit_999.jpg  \n",
            "  inflating: BDRW_dataset/labels.xls  \n"
          ],
          "name": "stdout"
        }
      ]
    },
    {
      "cell_type": "code",
      "metadata": {
        "id": "tbDvvdRkS9t-"
      },
      "source": [
        "!mv \"/content/BDRW_dataset/labels.xls\" \"/content/\""
      ],
      "execution_count": null,
      "outputs": []
    },
    {
      "cell_type": "code",
      "metadata": {
        "id": "CA03lDOtTKX-"
      },
      "source": [
        "labels=pd.read_excel('labels.xls',header=None)"
      ],
      "execution_count": null,
      "outputs": []
    },
    {
      "cell_type": "code",
      "metadata": {
        "id": "SyR08NTTTtSh",
        "outputId": "700f3cb8-0fb8-492d-ac4b-3ebc70aadbcc",
        "colab": {
          "base_uri": "https://localhost:8080/",
          "height": 417
        }
      },
      "source": [
        "labels.columns=['digit','label']\n",
        "labels"
      ],
      "execution_count": null,
      "outputs": [
        {
          "output_type": "execute_result",
          "data": {
            "text/html": [
              "<div>\n",
              "<style scoped>\n",
              "    .dataframe tbody tr th:only-of-type {\n",
              "        vertical-align: middle;\n",
              "    }\n",
              "\n",
              "    .dataframe tbody tr th {\n",
              "        vertical-align: top;\n",
              "    }\n",
              "\n",
              "    .dataframe thead th {\n",
              "        text-align: right;\n",
              "    }\n",
              "</style>\n",
              "<table border=\"1\" class=\"dataframe\">\n",
              "  <thead>\n",
              "    <tr style=\"text-align: right;\">\n",
              "      <th></th>\n",
              "      <th>digit</th>\n",
              "      <th>label</th>\n",
              "    </tr>\n",
              "  </thead>\n",
              "  <tbody>\n",
              "    <tr>\n",
              "      <th>0</th>\n",
              "      <td>digit_0</td>\n",
              "      <td>1</td>\n",
              "    </tr>\n",
              "    <tr>\n",
              "      <th>1</th>\n",
              "      <td>digit_1</td>\n",
              "      <td>4</td>\n",
              "    </tr>\n",
              "    <tr>\n",
              "      <th>2</th>\n",
              "      <td>digit_2</td>\n",
              "      <td>2</td>\n",
              "    </tr>\n",
              "    <tr>\n",
              "      <th>3</th>\n",
              "      <td>digit_3</td>\n",
              "      <td>3</td>\n",
              "    </tr>\n",
              "    <tr>\n",
              "      <th>4</th>\n",
              "      <td>digit_4</td>\n",
              "      <td>1</td>\n",
              "    </tr>\n",
              "    <tr>\n",
              "      <th>...</th>\n",
              "      <td>...</td>\n",
              "      <td>...</td>\n",
              "    </tr>\n",
              "    <tr>\n",
              "      <th>1388</th>\n",
              "      <td>digit_1542</td>\n",
              "      <td>0</td>\n",
              "    </tr>\n",
              "    <tr>\n",
              "      <th>1389</th>\n",
              "      <td>digit_1544</td>\n",
              "      <td>5</td>\n",
              "    </tr>\n",
              "    <tr>\n",
              "      <th>1390</th>\n",
              "      <td>digit_1545</td>\n",
              "      <td>0</td>\n",
              "    </tr>\n",
              "    <tr>\n",
              "      <th>1391</th>\n",
              "      <td>digit_1546</td>\n",
              "      <td>3</td>\n",
              "    </tr>\n",
              "    <tr>\n",
              "      <th>1392</th>\n",
              "      <td>digit_1547</td>\n",
              "      <td>0</td>\n",
              "    </tr>\n",
              "  </tbody>\n",
              "</table>\n",
              "<p>1393 rows × 2 columns</p>\n",
              "</div>"
            ],
            "text/plain": [
              "           digit  label\n",
              "0        digit_0      1\n",
              "1        digit_1      4\n",
              "2        digit_2      2\n",
              "3        digit_3      3\n",
              "4        digit_4      1\n",
              "...          ...    ...\n",
              "1388  digit_1542      0\n",
              "1389  digit_1544      5\n",
              "1390  digit_1545      0\n",
              "1391  digit_1546      3\n",
              "1392  digit_1547      0\n",
              "\n",
              "[1393 rows x 2 columns]"
            ]
          },
          "metadata": {
            "tags": []
          },
          "execution_count": 6
        }
      ]
    },
    {
      "cell_type": "code",
      "metadata": {
        "id": "iGj-7Ue-T0uw"
      },
      "source": [
        "img_list=os.listdir(\"/content/BDRW_dataset\")"
      ],
      "execution_count": null,
      "outputs": []
    },
    {
      "cell_type": "code",
      "metadata": {
        "id": "2j_ydMp9UIPZ",
        "outputId": "aa2c62d5-8fb0-46e3-aa78-4e0094b513c8",
        "colab": {
          "base_uri": "https://localhost:8080/"
        }
      },
      "source": [
        "len(img_list)"
      ],
      "execution_count": null,
      "outputs": [
        {
          "output_type": "execute_result",
          "data": {
            "text/plain": [
              "1393"
            ]
          },
          "metadata": {
            "tags": []
          },
          "execution_count": 8
        }
      ]
    },
    {
      "cell_type": "code",
      "metadata": {
        "id": "g8Ufg02oUJEs"
      },
      "source": [
        "labels_random=labels.copy()\n",
        "labels_random = labels_random.sample(frac=1).reset_index(drop=True)"
      ],
      "execution_count": null,
      "outputs": []
    },
    {
      "cell_type": "code",
      "metadata": {
        "id": "9P8qrCwNXEj3",
        "outputId": "b1da594d-0e95-4df6-dcf5-259ef1e34f73",
        "colab": {
          "base_uri": "https://localhost:8080/",
          "height": 417
        }
      },
      "source": [
        "labels_random"
      ],
      "execution_count": null,
      "outputs": [
        {
          "output_type": "execute_result",
          "data": {
            "text/html": [
              "<div>\n",
              "<style scoped>\n",
              "    .dataframe tbody tr th:only-of-type {\n",
              "        vertical-align: middle;\n",
              "    }\n",
              "\n",
              "    .dataframe tbody tr th {\n",
              "        vertical-align: top;\n",
              "    }\n",
              "\n",
              "    .dataframe thead th {\n",
              "        text-align: right;\n",
              "    }\n",
              "</style>\n",
              "<table border=\"1\" class=\"dataframe\">\n",
              "  <thead>\n",
              "    <tr style=\"text-align: right;\">\n",
              "      <th></th>\n",
              "      <th>digit</th>\n",
              "      <th>label</th>\n",
              "    </tr>\n",
              "  </thead>\n",
              "  <tbody>\n",
              "    <tr>\n",
              "      <th>0</th>\n",
              "      <td>digit_918</td>\n",
              "      <td>5</td>\n",
              "    </tr>\n",
              "    <tr>\n",
              "      <th>1</th>\n",
              "      <td>digit_1448</td>\n",
              "      <td>9</td>\n",
              "    </tr>\n",
              "    <tr>\n",
              "      <th>2</th>\n",
              "      <td>digit_585</td>\n",
              "      <td>8</td>\n",
              "    </tr>\n",
              "    <tr>\n",
              "      <th>3</th>\n",
              "      <td>digit_1231</td>\n",
              "      <td>4</td>\n",
              "    </tr>\n",
              "    <tr>\n",
              "      <th>4</th>\n",
              "      <td>digit_895</td>\n",
              "      <td>3</td>\n",
              "    </tr>\n",
              "    <tr>\n",
              "      <th>...</th>\n",
              "      <td>...</td>\n",
              "      <td>...</td>\n",
              "    </tr>\n",
              "    <tr>\n",
              "      <th>1388</th>\n",
              "      <td>digit_1195</td>\n",
              "      <td>9</td>\n",
              "    </tr>\n",
              "    <tr>\n",
              "      <th>1389</th>\n",
              "      <td>digit_1149</td>\n",
              "      <td>8</td>\n",
              "    </tr>\n",
              "    <tr>\n",
              "      <th>1390</th>\n",
              "      <td>digit_1464</td>\n",
              "      <td>7</td>\n",
              "    </tr>\n",
              "    <tr>\n",
              "      <th>1391</th>\n",
              "      <td>digit_258</td>\n",
              "      <td>4</td>\n",
              "    </tr>\n",
              "    <tr>\n",
              "      <th>1392</th>\n",
              "      <td>digit_471</td>\n",
              "      <td>3</td>\n",
              "    </tr>\n",
              "  </tbody>\n",
              "</table>\n",
              "<p>1393 rows × 2 columns</p>\n",
              "</div>"
            ],
            "text/plain": [
              "           digit  label\n",
              "0      digit_918      5\n",
              "1     digit_1448      9\n",
              "2      digit_585      8\n",
              "3     digit_1231      4\n",
              "4      digit_895      3\n",
              "...          ...    ...\n",
              "1388  digit_1195      9\n",
              "1389  digit_1149      8\n",
              "1390  digit_1464      7\n",
              "1391   digit_258      4\n",
              "1392   digit_471      3\n",
              "\n",
              "[1393 rows x 2 columns]"
            ]
          },
          "metadata": {
            "tags": []
          },
          "execution_count": 10
        }
      ]
    },
    {
      "cell_type": "code",
      "metadata": {
        "id": "RVVjHUvoXFqv"
      },
      "source": [
        "unique_labels = list(labels_random[\"label\"].unique())"
      ],
      "execution_count": null,
      "outputs": []
    },
    {
      "cell_type": "code",
      "metadata": {
        "id": "q1EyKqq2YI9D",
        "outputId": "4a6983b7-46e4-40e4-c593-873089ff4238",
        "colab": {
          "base_uri": "https://localhost:8080/"
        }
      },
      "source": [
        "unique_labels"
      ],
      "execution_count": null,
      "outputs": [
        {
          "output_type": "execute_result",
          "data": {
            "text/plain": [
              "[5, 9, 8, 4, 3, 0, 7, 1, 2, 6]"
            ]
          },
          "metadata": {
            "tags": []
          },
          "execution_count": 12
        }
      ]
    },
    {
      "cell_type": "code",
      "metadata": {
        "id": "jvthk4YcYL6C"
      },
      "source": [
        "labels_group = labels_random.groupby(\"label\")"
      ],
      "execution_count": null,
      "outputs": []
    },
    {
      "cell_type": "code",
      "metadata": {
        "id": "Fh_vJvs_ZWTk"
      },
      "source": [
        "# Analysing class imbalance before loading the dataset"
      ],
      "execution_count": null,
      "outputs": []
    },
    {
      "cell_type": "code",
      "metadata": {
        "id": "6bHpb8jMZaSc",
        "outputId": "dff86177-d3e9-4a89-8fa1-0ceff56e0755",
        "colab": {
          "base_uri": "https://localhost:8080/"
        }
      },
      "source": [
        "df_0 = labels_group.get_group(0).reset_index(drop = True)\n",
        "len(df_0)"
      ],
      "execution_count": null,
      "outputs": [
        {
          "output_type": "execute_result",
          "data": {
            "text/plain": [
              "166"
            ]
          },
          "metadata": {
            "tags": []
          },
          "execution_count": 15
        }
      ]
    },
    {
      "cell_type": "code",
      "metadata": {
        "id": "O_KHfNYCfbHz",
        "outputId": "9775776a-6b8b-4ff4-baad-b9cc15fb3f54",
        "colab": {
          "base_uri": "https://localhost:8080/"
        }
      },
      "source": [
        "df_1 = labels_group.get_group(1).reset_index(drop = True)\n",
        "len(df_1)"
      ],
      "execution_count": null,
      "outputs": [
        {
          "output_type": "execute_result",
          "data": {
            "text/plain": [
              "282"
            ]
          },
          "metadata": {
            "tags": []
          },
          "execution_count": 16
        }
      ]
    },
    {
      "cell_type": "code",
      "metadata": {
        "id": "EAkvt4KgvanQ",
        "outputId": "97cd85eb-b537-42eb-ba00-3f3dd396d26b",
        "colab": {
          "base_uri": "https://localhost:8080/"
        }
      },
      "source": [
        "df_2 = labels_group.get_group(2).reset_index(drop = True)\n",
        "len(df_2)"
      ],
      "execution_count": null,
      "outputs": [
        {
          "output_type": "execute_result",
          "data": {
            "text/plain": [
              "211"
            ]
          },
          "metadata": {
            "tags": []
          },
          "execution_count": 17
        }
      ]
    },
    {
      "cell_type": "code",
      "metadata": {
        "id": "3cpB4a2gvk2h",
        "outputId": "922e9662-da71-4b6e-810a-e96f73b2eabd",
        "colab": {
          "base_uri": "https://localhost:8080/"
        }
      },
      "source": [
        "df_3 = labels_group.get_group(3).reset_index(drop = True)\n",
        "len(df_3)"
      ],
      "execution_count": null,
      "outputs": [
        {
          "output_type": "execute_result",
          "data": {
            "text/plain": [
              "133"
            ]
          },
          "metadata": {
            "tags": []
          },
          "execution_count": 18
        }
      ]
    },
    {
      "cell_type": "code",
      "metadata": {
        "id": "z3W3DWWPvngk",
        "outputId": "b52c27c3-3d90-4aaa-9ebf-c785780c2674",
        "colab": {
          "base_uri": "https://localhost:8080/"
        }
      },
      "source": [
        "df_4 = labels_group.get_group(4).reset_index(drop = True)\n",
        "len(df_4)"
      ],
      "execution_count": null,
      "outputs": [
        {
          "output_type": "execute_result",
          "data": {
            "text/plain": [
              "124"
            ]
          },
          "metadata": {
            "tags": []
          },
          "execution_count": 19
        }
      ]
    },
    {
      "cell_type": "code",
      "metadata": {
        "id": "vtTraZwUvp7u",
        "outputId": "c4d91d61-241b-422d-b5d6-7c2fa21ce8d4",
        "colab": {
          "base_uri": "https://localhost:8080/"
        }
      },
      "source": [
        "df_5 = labels_group.get_group(5).reset_index(drop = True)\n",
        "len(df_5)"
      ],
      "execution_count": null,
      "outputs": [
        {
          "output_type": "execute_result",
          "data": {
            "text/plain": [
              "126"
            ]
          },
          "metadata": {
            "tags": []
          },
          "execution_count": 20
        }
      ]
    },
    {
      "cell_type": "code",
      "metadata": {
        "id": "re79rZQIvsBv",
        "outputId": "73956859-4e7a-45ce-8db5-33395b1e43b7",
        "colab": {
          "base_uri": "https://localhost:8080/"
        }
      },
      "source": [
        "df_6 = labels_group.get_group(6).reset_index(drop = True)\n",
        "len(df_6)"
      ],
      "execution_count": null,
      "outputs": [
        {
          "output_type": "execute_result",
          "data": {
            "text/plain": [
              "98"
            ]
          },
          "metadata": {
            "tags": []
          },
          "execution_count": 21
        }
      ]
    },
    {
      "cell_type": "code",
      "metadata": {
        "id": "DNhbdFqtvuEh",
        "outputId": "8da9a383-8f97-440f-9a6a-ed0460457d58",
        "colab": {
          "base_uri": "https://localhost:8080/"
        }
      },
      "source": [
        "df_7 = labels_group.get_group(7).reset_index(drop = True)\n",
        "len(df_7)"
      ],
      "execution_count": null,
      "outputs": [
        {
          "output_type": "execute_result",
          "data": {
            "text/plain": [
              "89"
            ]
          },
          "metadata": {
            "tags": []
          },
          "execution_count": 22
        }
      ]
    },
    {
      "cell_type": "code",
      "metadata": {
        "id": "yoceFScIvwBZ",
        "outputId": "d58aa4fa-ba85-4db6-849c-ff8f0bf1633e",
        "colab": {
          "base_uri": "https://localhost:8080/"
        }
      },
      "source": [
        "df_8 = labels_group.get_group(8).reset_index(drop = True)\n",
        "len(df_8)"
      ],
      "execution_count": null,
      "outputs": [
        {
          "output_type": "execute_result",
          "data": {
            "text/plain": [
              "83"
            ]
          },
          "metadata": {
            "tags": []
          },
          "execution_count": 23
        }
      ]
    },
    {
      "cell_type": "code",
      "metadata": {
        "id": "BEVq-j7svyc9",
        "outputId": "69f133cf-f2e5-465a-b58b-17cccd7c7d6f",
        "colab": {
          "base_uri": "https://localhost:8080/"
        }
      },
      "source": [
        "df_9 = labels_group.get_group(9).reset_index(drop = True)\n",
        "len(df_9)"
      ],
      "execution_count": null,
      "outputs": [
        {
          "output_type": "execute_result",
          "data": {
            "text/plain": [
              "81"
            ]
          },
          "metadata": {
            "tags": []
          },
          "execution_count": 24
        }
      ]
    },
    {
      "cell_type": "code",
      "metadata": {
        "id": "Zpmy4Pvxv0vp"
      },
      "source": [
        "list_df = [df_0, df_1, df_2, df_3, df_4, df_5, df_6, df_7, df_8, df_9]"
      ],
      "execution_count": null,
      "outputs": []
    },
    {
      "cell_type": "code",
      "metadata": {
        "id": "ytRtGaQqv4sx",
        "outputId": "05dae3cd-a1f0-4116-b99e-a8f1e4a8d7c0",
        "colab": {
          "base_uri": "https://localhost:8080/"
        }
      },
      "source": [
        "list_df"
      ],
      "execution_count": null,
      "outputs": [
        {
          "output_type": "execute_result",
          "data": {
            "text/plain": [
              "[          digit  label\n",
              " 0    digit_1542      0\n",
              " 1     digit_288      0\n",
              " 2    digit_1211      0\n",
              " 3     digit_224      0\n",
              " 4     digit_243      0\n",
              " ..          ...    ...\n",
              " 161   digit_461      0\n",
              " 162   digit_524      0\n",
              " 163   digit_718      0\n",
              " 164   digit_303      0\n",
              " 165  digit_1533      0\n",
              " \n",
              " [166 rows x 2 columns],           digit  label\n",
              " 0     digit_187      1\n",
              " 1     digit_973      1\n",
              " 2     digit_279      1\n",
              " 3     digit_801      1\n",
              " 4     digit_757      1\n",
              " ..          ...    ...\n",
              " 277   digit_264      1\n",
              " 278   digit_496      1\n",
              " 279  digit_1034      1\n",
              " 280  digit_1412      1\n",
              " 281  digit_1496      1\n",
              " \n",
              " [282 rows x 2 columns],           digit  label\n",
              " 0     digit_863      2\n",
              " 1     digit_424      2\n",
              " 2     digit_685      2\n",
              " 3     digit_773      2\n",
              " 4     digit_474      2\n",
              " ..          ...    ...\n",
              " 206   digit_835      2\n",
              " 207  digit_1239      2\n",
              " 208  digit_1043      2\n",
              " 209   digit_422      2\n",
              " 210   digit_819      2\n",
              " \n",
              " [211 rows x 2 columns],           digit  label\n",
              " 0     digit_895      3\n",
              " 1     digit_889      3\n",
              " 2    digit_1084      3\n",
              " 3     digit_402      3\n",
              " 4     digit_901      3\n",
              " ..          ...    ...\n",
              " 128     digit_6      3\n",
              " 129  digit_1456      3\n",
              " 130   digit_637      3\n",
              " 131  digit_1144      3\n",
              " 132   digit_471      3\n",
              " \n",
              " [133 rows x 2 columns],           digit  label\n",
              " 0    digit_1231      4\n",
              " 1     digit_145      4\n",
              " 2     digit_191      4\n",
              " 3     digit_974      4\n",
              " 4     digit_923      4\n",
              " ..          ...    ...\n",
              " 119   digit_896      4\n",
              " 120   digit_407      4\n",
              " 121  digit_1438      4\n",
              " 122   digit_715      4\n",
              " 123   digit_258      4\n",
              " \n",
              " [124 rows x 2 columns],           digit  label\n",
              " 0     digit_918      5\n",
              " 1    digit_1394      5\n",
              " 2    digit_1106      5\n",
              " 3     digit_333      5\n",
              " 4     digit_567      5\n",
              " ..          ...    ...\n",
              " 121  digit_1424      5\n",
              " 122   digit_879      5\n",
              " 123   digit_292      5\n",
              " 124   digit_504      5\n",
              " 125   digit_129      5\n",
              " \n",
              " [126 rows x 2 columns],          digit  label\n",
              " 0    digit_961      6\n",
              " 1    digit_235      6\n",
              " 2    digit_885      6\n",
              " 3   digit_1207      6\n",
              " 4   digit_1026      6\n",
              " ..         ...    ...\n",
              " 93   digit_122      6\n",
              " 94   digit_963      6\n",
              " 95   digit_951      6\n",
              " 96   digit_317      6\n",
              " 97  digit_1138      6\n",
              " \n",
              " [98 rows x 2 columns],          digit  label\n",
              " 0    digit_750      7\n",
              " 1    digit_886      7\n",
              " 2   digit_1269      7\n",
              " 3   digit_1251      7\n",
              " 4    digit_995      7\n",
              " ..         ...    ...\n",
              " 84   digit_327      7\n",
              " 85   digit_980      7\n",
              " 86   digit_788      7\n",
              " 87   digit_569      7\n",
              " 88  digit_1464      7\n",
              " \n",
              " [89 rows x 2 columns],          digit  label\n",
              " 0    digit_585      8\n",
              " 1   digit_1325      8\n",
              " 2    digit_653      8\n",
              " 3   digit_1427      8\n",
              " 4    digit_636      8\n",
              " ..         ...    ...\n",
              " 78   digit_153      8\n",
              " 79   digit_534      8\n",
              " 80   digit_482      8\n",
              " 81    digit_65      8\n",
              " 82  digit_1149      8\n",
              " \n",
              " [83 rows x 2 columns],          digit  label\n",
              " 0   digit_1448      9\n",
              " 1   digit_1277      9\n",
              " 2    digit_464      9\n",
              " 3     digit_12      9\n",
              " 4    digit_489      9\n",
              " ..         ...    ...\n",
              " 76   digit_361      9\n",
              " 77  digit_1236      9\n",
              " 78  digit_1357      9\n",
              " 79   digit_439      9\n",
              " 80  digit_1195      9\n",
              " \n",
              " [81 rows x 2 columns]]"
            ]
          },
          "metadata": {
            "tags": []
          },
          "execution_count": 26
        }
      ]
    },
    {
      "cell_type": "code",
      "metadata": {
        "id": "Eo1vCOwmv5nd"
      },
      "source": [
        "#Loading all data at once and dividing it evenly amongst classes"
      ],
      "execution_count": null,
      "outputs": []
    },
    {
      "cell_type": "code",
      "metadata": {
        "id": "ofBWQf7pwPPm",
        "outputId": "8e075885-df4a-400c-a4ea-8edff5a819a5",
        "colab": {
          "base_uri": "https://localhost:8080/",
          "height": 417
        }
      },
      "source": [
        "labels"
      ],
      "execution_count": null,
      "outputs": [
        {
          "output_type": "execute_result",
          "data": {
            "text/html": [
              "<div>\n",
              "<style scoped>\n",
              "    .dataframe tbody tr th:only-of-type {\n",
              "        vertical-align: middle;\n",
              "    }\n",
              "\n",
              "    .dataframe tbody tr th {\n",
              "        vertical-align: top;\n",
              "    }\n",
              "\n",
              "    .dataframe thead th {\n",
              "        text-align: right;\n",
              "    }\n",
              "</style>\n",
              "<table border=\"1\" class=\"dataframe\">\n",
              "  <thead>\n",
              "    <tr style=\"text-align: right;\">\n",
              "      <th></th>\n",
              "      <th>digit</th>\n",
              "      <th>label</th>\n",
              "    </tr>\n",
              "  </thead>\n",
              "  <tbody>\n",
              "    <tr>\n",
              "      <th>0</th>\n",
              "      <td>digit_0</td>\n",
              "      <td>1</td>\n",
              "    </tr>\n",
              "    <tr>\n",
              "      <th>1</th>\n",
              "      <td>digit_1</td>\n",
              "      <td>4</td>\n",
              "    </tr>\n",
              "    <tr>\n",
              "      <th>2</th>\n",
              "      <td>digit_2</td>\n",
              "      <td>2</td>\n",
              "    </tr>\n",
              "    <tr>\n",
              "      <th>3</th>\n",
              "      <td>digit_3</td>\n",
              "      <td>3</td>\n",
              "    </tr>\n",
              "    <tr>\n",
              "      <th>4</th>\n",
              "      <td>digit_4</td>\n",
              "      <td>1</td>\n",
              "    </tr>\n",
              "    <tr>\n",
              "      <th>...</th>\n",
              "      <td>...</td>\n",
              "      <td>...</td>\n",
              "    </tr>\n",
              "    <tr>\n",
              "      <th>1388</th>\n",
              "      <td>digit_1542</td>\n",
              "      <td>0</td>\n",
              "    </tr>\n",
              "    <tr>\n",
              "      <th>1389</th>\n",
              "      <td>digit_1544</td>\n",
              "      <td>5</td>\n",
              "    </tr>\n",
              "    <tr>\n",
              "      <th>1390</th>\n",
              "      <td>digit_1545</td>\n",
              "      <td>0</td>\n",
              "    </tr>\n",
              "    <tr>\n",
              "      <th>1391</th>\n",
              "      <td>digit_1546</td>\n",
              "      <td>3</td>\n",
              "    </tr>\n",
              "    <tr>\n",
              "      <th>1392</th>\n",
              "      <td>digit_1547</td>\n",
              "      <td>0</td>\n",
              "    </tr>\n",
              "  </tbody>\n",
              "</table>\n",
              "<p>1393 rows × 2 columns</p>\n",
              "</div>"
            ],
            "text/plain": [
              "           digit  label\n",
              "0        digit_0      1\n",
              "1        digit_1      4\n",
              "2        digit_2      2\n",
              "3        digit_3      3\n",
              "4        digit_4      1\n",
              "...          ...    ...\n",
              "1388  digit_1542      0\n",
              "1389  digit_1544      5\n",
              "1390  digit_1545      0\n",
              "1391  digit_1546      3\n",
              "1392  digit_1547      0\n",
              "\n",
              "[1393 rows x 2 columns]"
            ]
          },
          "metadata": {
            "tags": []
          },
          "execution_count": 28
        }
      ]
    },
    {
      "cell_type": "code",
      "metadata": {
        "id": "mEoqXprxVHSE"
      },
      "source": [
        "#Since 81 is the minimum number of examples for a particular label, choosing 0.85 of it for every label for testing"
      ],
      "execution_count": null,
      "outputs": []
    },
    {
      "cell_type": "code",
      "metadata": {
        "id": "siJaoCt6wHre"
      },
      "source": [
        "cols = [\"digit\", \"label\"]\n",
        "df_train = pd.DataFrame(columns = cols)\n",
        "df_test = pd.DataFrame(columns = cols)\n",
        "for dataframe in list_df:\n",
        "    df_x = dataframe[:int(0.87*81)]\n",
        "    df_y = dataframe[int(0.87*81):]\n",
        "    \n",
        "    df_train = pd.concat([df_train, df_x])\n",
        "    df_test = pd.concat([df_test, df_y])"
      ],
      "execution_count": null,
      "outputs": []
    },
    {
      "cell_type": "code",
      "metadata": {
        "id": "QavC0NCnVGPL"
      },
      "source": [],
      "execution_count": null,
      "outputs": []
    },
    {
      "cell_type": "code",
      "metadata": {
        "id": "0PjNeqVgwUWQ",
        "outputId": "4613fc40-ce3e-4740-f328-6c0a0d12bf12",
        "colab": {
          "base_uri": "https://localhost:8080/"
        }
      },
      "source": [
        "len(df_train)"
      ],
      "execution_count": null,
      "outputs": [
        {
          "output_type": "execute_result",
          "data": {
            "text/plain": [
              "700"
            ]
          },
          "metadata": {
            "tags": []
          },
          "execution_count": 31
        }
      ]
    },
    {
      "cell_type": "code",
      "metadata": {
        "id": "0056Nxd5wXC2",
        "outputId": "4756bfb2-dc98-42b0-a440-01b823234c36",
        "colab": {
          "base_uri": "https://localhost:8080/"
        }
      },
      "source": [
        "len(df_test)"
      ],
      "execution_count": null,
      "outputs": [
        {
          "output_type": "execute_result",
          "data": {
            "text/plain": [
              "693"
            ]
          },
          "metadata": {
            "tags": []
          },
          "execution_count": 32
        }
      ]
    },
    {
      "cell_type": "code",
      "metadata": {
        "id": "M-JE1GVwzbkz"
      },
      "source": [
        "df_train = df_train.sample(frac=1).reset_index(drop=True)"
      ],
      "execution_count": null,
      "outputs": []
    },
    {
      "cell_type": "code",
      "metadata": {
        "id": "DYBrg2Qd5OLu"
      },
      "source": [
        "df_test = df_test.sample(frac=1).reset_index(drop=True)"
      ],
      "execution_count": null,
      "outputs": []
    },
    {
      "cell_type": "code",
      "metadata": {
        "id": "O7BGi9f85QT2",
        "outputId": "e07b9d62-f14a-4eb1-d5c9-a6b28de71475",
        "colab": {
          "base_uri": "https://localhost:8080/",
          "height": 417
        }
      },
      "source": [
        "df_train"
      ],
      "execution_count": null,
      "outputs": [
        {
          "output_type": "execute_result",
          "data": {
            "text/html": [
              "<div>\n",
              "<style scoped>\n",
              "    .dataframe tbody tr th:only-of-type {\n",
              "        vertical-align: middle;\n",
              "    }\n",
              "\n",
              "    .dataframe tbody tr th {\n",
              "        vertical-align: top;\n",
              "    }\n",
              "\n",
              "    .dataframe thead th {\n",
              "        text-align: right;\n",
              "    }\n",
              "</style>\n",
              "<table border=\"1\" class=\"dataframe\">\n",
              "  <thead>\n",
              "    <tr style=\"text-align: right;\">\n",
              "      <th></th>\n",
              "      <th>digit</th>\n",
              "      <th>label</th>\n",
              "    </tr>\n",
              "  </thead>\n",
              "  <tbody>\n",
              "    <tr>\n",
              "      <th>0</th>\n",
              "      <td>digit_221</td>\n",
              "      <td>7</td>\n",
              "    </tr>\n",
              "    <tr>\n",
              "      <th>1</th>\n",
              "      <td>digit_733</td>\n",
              "      <td>1</td>\n",
              "    </tr>\n",
              "    <tr>\n",
              "      <th>2</th>\n",
              "      <td>digit_473</td>\n",
              "      <td>6</td>\n",
              "    </tr>\n",
              "    <tr>\n",
              "      <th>3</th>\n",
              "      <td>digit_760</td>\n",
              "      <td>3</td>\n",
              "    </tr>\n",
              "    <tr>\n",
              "      <th>4</th>\n",
              "      <td>digit_290</td>\n",
              "      <td>4</td>\n",
              "    </tr>\n",
              "    <tr>\n",
              "      <th>...</th>\n",
              "      <td>...</td>\n",
              "      <td>...</td>\n",
              "    </tr>\n",
              "    <tr>\n",
              "      <th>695</th>\n",
              "      <td>digit_402</td>\n",
              "      <td>3</td>\n",
              "    </tr>\n",
              "    <tr>\n",
              "      <th>696</th>\n",
              "      <td>digit_133</td>\n",
              "      <td>9</td>\n",
              "    </tr>\n",
              "    <tr>\n",
              "      <th>697</th>\n",
              "      <td>digit_1013</td>\n",
              "      <td>4</td>\n",
              "    </tr>\n",
              "    <tr>\n",
              "      <th>698</th>\n",
              "      <td>digit_1198</td>\n",
              "      <td>9</td>\n",
              "    </tr>\n",
              "    <tr>\n",
              "      <th>699</th>\n",
              "      <td>digit_1289</td>\n",
              "      <td>5</td>\n",
              "    </tr>\n",
              "  </tbody>\n",
              "</table>\n",
              "<p>700 rows × 2 columns</p>\n",
              "</div>"
            ],
            "text/plain": [
              "          digit label\n",
              "0     digit_221     7\n",
              "1     digit_733     1\n",
              "2     digit_473     6\n",
              "3     digit_760     3\n",
              "4     digit_290     4\n",
              "..          ...   ...\n",
              "695   digit_402     3\n",
              "696   digit_133     9\n",
              "697  digit_1013     4\n",
              "698  digit_1198     9\n",
              "699  digit_1289     5\n",
              "\n",
              "[700 rows x 2 columns]"
            ]
          },
          "metadata": {
            "tags": []
          },
          "execution_count": 35
        }
      ]
    },
    {
      "cell_type": "code",
      "metadata": {
        "id": "aaJzOD5j5SXw"
      },
      "source": [
        "import tqdm\n",
        "import torch\n",
        "from sklearn.metrics import accuracy_score\n",
        "import torch.nn as nn\n",
        "import torch.nn.functional as F\n",
        "from torch.nn import Linear, ReLU, CrossEntropyLoss, Sequential, Conv2d, MaxPool2d, Module, Softmax, BatchNorm2d, Dropout\n",
        "from torch.autograd import Variable\n",
        "import torch.optim as optim\n",
        "from torch.optim import Adam, SGD\n",
        "from torchvision import transforms, datasets\n",
        "from torch.utils.data.sampler import SubsetRandomSampler\n",
        "from skimage.io import imread\n",
        "from skimage import io, color\n",
        "from PIL import Image\n",
        "import cv2\n",
        "# for creating validation set\n",
        "from sklearn.model_selection import train_test_split"
      ],
      "execution_count": null,
      "outputs": []
    },
    {
      "cell_type": "code",
      "metadata": {
        "id": "PQRZOGYw6IOU",
        "outputId": "60560938-c29d-40be-9c5e-03f771a95e7d",
        "colab": {
          "base_uri": "https://localhost:8080/"
        }
      },
      "source": [
        "# loading training images\n",
        "apply_transform = transforms.Compose([transforms.Resize((28,28)), transforms.ToTensor()])\n",
        "training_data_img = []\n",
        "for index in tqdm.trange(len(df_train['digit'])):\n",
        "    # defining the image path\n",
        "    img_path = '/content/BDRW_dataset/' + str(df_train['digit'][index]) + '.jpg'\n",
        "    # reading the image\n",
        "    img = Image.open(img_path).convert('L')\n",
        "    #transforming\n",
        "    img_transformed = apply_transform(img)\n",
        "    #converting back to numpy\n",
        "    img_numpy = img_transformed.numpy()\n",
        "    training_data_img.append(img_numpy)\n",
        "\n",
        "# converting the list to numpy array\n",
        "train_x = np.array(training_data_img)\n",
        "# defining the target\n",
        "train_y = df_train['label'].values\n",
        "train_x.shape"
      ],
      "execution_count": null,
      "outputs": [
        {
          "output_type": "stream",
          "text": [
            "100%|██████████| 700/700 [00:00<00:00, 1489.73it/s]\n"
          ],
          "name": "stderr"
        },
        {
          "output_type": "execute_result",
          "data": {
            "text/plain": [
              "(700, 1, 28, 28)"
            ]
          },
          "metadata": {
            "tags": []
          },
          "execution_count": 37
        }
      ]
    },
    {
      "cell_type": "code",
      "metadata": {
        "id": "h3muBewPBW82",
        "outputId": "cdc06404-552a-4b30-a5fb-9c125f0efa3c",
        "colab": {
          "base_uri": "https://localhost:8080/"
        }
      },
      "source": [
        "# creating validation set\n",
        "train_x, val_x, train_y, val_y = train_test_split(train_x, train_y, test_size = 0.13)\n",
        "(train_x.shape, train_y.shape), (val_x.shape, val_y.shape)"
      ],
      "execution_count": null,
      "outputs": [
        {
          "output_type": "execute_result",
          "data": {
            "text/plain": [
              "(((609, 1, 28, 28), (609,)), ((91, 1, 28, 28), (91,)))"
            ]
          },
          "metadata": {
            "tags": []
          },
          "execution_count": 38
        }
      ]
    },
    {
      "cell_type": "code",
      "metadata": {
        "id": "9nKg_bHsB_U0",
        "outputId": "7814c6db-9e0a-44ee-b529-bfebed5f8047",
        "colab": {
          "base_uri": "https://localhost:8080/"
        }
      },
      "source": [
        "# converting training images into torch format\n",
        "train_x = train_x.reshape(609, 1, 28, 28)\n",
        "train_x  = torch.from_numpy(train_x)\n",
        "\n",
        "# converting the target into torch format\n",
        "train_y = train_y.astype(int);\n",
        "train_y = torch.from_numpy(train_y)\n",
        "\n",
        "# shape of training data\n",
        "train_x.shape, train_y.shape"
      ],
      "execution_count": null,
      "outputs": [
        {
          "output_type": "execute_result",
          "data": {
            "text/plain": [
              "(torch.Size([609, 1, 28, 28]), torch.Size([609]))"
            ]
          },
          "metadata": {
            "tags": []
          },
          "execution_count": 39
        }
      ]
    },
    {
      "cell_type": "code",
      "metadata": {
        "id": "cNz2eLaJCZZ_",
        "outputId": "03a9a3e4-3b1d-4d3b-b820-faace6529851",
        "colab": {
          "base_uri": "https://localhost:8080/"
        }
      },
      "source": [
        "# converting validation images into torch format\n",
        "val_x = val_x.reshape(91, 1, 28, 28)\n",
        "val_x  = torch.from_numpy(val_x)\n",
        "\n",
        "# converting the target into torch format\n",
        "val_y = val_y.astype(int);\n",
        "val_y = torch.from_numpy(val_y)\n",
        "\n",
        "# shape of validation data\n",
        "val_x.shape, val_y.shape"
      ],
      "execution_count": null,
      "outputs": [
        {
          "output_type": "execute_result",
          "data": {
            "text/plain": [
              "(torch.Size([91, 1, 28, 28]), torch.Size([91]))"
            ]
          },
          "metadata": {
            "tags": []
          },
          "execution_count": 40
        }
      ]
    },
    {
      "cell_type": "code",
      "metadata": {
        "id": "XtzpM4-3Cgld"
      },
      "source": [
        "# Network architecture with complexity\n",
        "class Net(nn.Module):   \n",
        "    def __init__(self):\n",
        "        super(Net, self).__init__()\n",
        "\n",
        "        self.cnn_layers = Sequential(\n",
        "            # Defining a 2D convolution layer\n",
        "            Conv2d(1, 4, kernel_size=3, stride=1, padding=1),\n",
        "            BatchNorm2d(4),\n",
        "            ReLU(inplace=True),\n",
        "            MaxPool2d(kernel_size=2, stride=2),\n",
        "            # Defining another 2D convolution layer\n",
        "            Conv2d(4, 4, kernel_size=3, stride=1, padding=1),\n",
        "            BatchNorm2d(4),\n",
        "            ReLU(inplace=True),\n",
        "            MaxPool2d(kernel_size=2, stride=2),\n",
        "        )\n",
        "\n",
        "        self.linear_layers = Sequential(\n",
        "            Linear(4 * 7 * 7, 10)\n",
        "        )\n",
        "\n",
        "    # Defining the forward pass    \n",
        "    def forward(self, x):\n",
        "        x = self.cnn_layers(x)\n",
        "        x = x.view(x.size(0), -1)\n",
        "        x = self.linear_layers(x)\n",
        "        return x"
      ],
      "execution_count": null,
      "outputs": []
    },
    {
      "cell_type": "code",
      "metadata": {
        "id": "RES5CdzjDbc1",
        "outputId": "d08dd4e8-e0cc-4907-e066-8cba70550e5e",
        "colab": {
          "base_uri": "https://localhost:8080/"
        }
      },
      "source": [
        "# defining the model\n",
        "model = Net()\n",
        "# defining the optimizer\n",
        "optimizer = Adam(model.parameters(), lr=0.072)\n",
        "# defining the loss function\n",
        "criterion = CrossEntropyLoss()\n",
        "# checking if GPU is available\n",
        "if torch.cuda.is_available():\n",
        "    model = model.cuda()\n",
        "    criterion = criterion.cuda()\n",
        "    \n",
        "print(model)\n",
        "\n",
        "#model summary and details about complexity"
      ],
      "execution_count": null,
      "outputs": [
        {
          "output_type": "stream",
          "text": [
            "Net(\n",
            "  (cnn_layers): Sequential(\n",
            "    (0): Conv2d(1, 4, kernel_size=(3, 3), stride=(1, 1), padding=(1, 1))\n",
            "    (1): BatchNorm2d(4, eps=1e-05, momentum=0.1, affine=True, track_running_stats=True)\n",
            "    (2): ReLU(inplace=True)\n",
            "    (3): MaxPool2d(kernel_size=2, stride=2, padding=0, dilation=1, ceil_mode=False)\n",
            "    (4): Conv2d(4, 4, kernel_size=(3, 3), stride=(1, 1), padding=(1, 1))\n",
            "    (5): BatchNorm2d(4, eps=1e-05, momentum=0.1, affine=True, track_running_stats=True)\n",
            "    (6): ReLU(inplace=True)\n",
            "    (7): MaxPool2d(kernel_size=2, stride=2, padding=0, dilation=1, ceil_mode=False)\n",
            "  )\n",
            "  (linear_layers): Sequential(\n",
            "    (0): Linear(in_features=196, out_features=10, bias=True)\n",
            "  )\n",
            ")\n"
          ],
          "name": "stdout"
        }
      ]
    },
    {
      "cell_type": "code",
      "metadata": {
        "id": "E0kAoOidDgCS"
      },
      "source": [
        "def train(epoch):\n",
        "    model.train()\n",
        "    tr_loss = 0\n",
        "    # getting the training set\n",
        "    x_train, y_train = Variable(train_x), Variable(train_y)\n",
        "    # getting the validation set\n",
        "    x_val, y_val = Variable(val_x), Variable(val_y)\n",
        "    # converting the data into GPU format\n",
        "    if torch.cuda.is_available():\n",
        "        x_train = x_train.cuda()\n",
        "        y_train = y_train.cuda()\n",
        "        x_val = x_val.cuda()\n",
        "        y_val = y_val.cuda()\n",
        "\n",
        "    # clearing the Gradients of the model parameters\n",
        "    optimizer.zero_grad()\n",
        "    \n",
        "    # prediction for training and validation set\n",
        "    output_train = model(x_train)\n",
        "    output_val = model(x_val)\n",
        "\n",
        "    # computing the training and validation loss\n",
        "    loss_train = criterion(output_train, y_train)\n",
        "    loss_val = criterion(output_val, y_val)\n",
        "    train_loss.append(loss_train)\n",
        "    val_loss.append(loss_val)\n",
        "\n",
        "    # computing the updated weights of all the model parameters\n",
        "    loss_train.backward()\n",
        "    optimizer.step()\n",
        "    tr_loss = loss_train.item()\n",
        "    \n",
        "    # printing the validation loss\n",
        "    print('Epoch : ',epoch+1, '\\t', 'loss_val :', loss_val, \"\\t\", \"loss_train:\", loss_train)\n",
        "    \n",
        "    # Condition for early stoppage\n",
        "    # Running for atleast 50 epochs, based on observation\n",
        "    # Training stops when loss_val-loss_train > 0.15\n",
        "    \n",
        "    diff = loss_val-loss_train\n",
        "    if (epoch >= 50):  \n",
        "        if(diff >= 0.15):\n",
        "            print(\"Early Stoppage at \" + str(epoch+1))\n",
        "            flag = 1\n",
        "        else:\n",
        "            flag = 0\n",
        "    else:\n",
        "        flag = 0\n",
        "        \n",
        "    return flag"
      ],
      "execution_count": null,
      "outputs": []
    },
    {
      "cell_type": "code",
      "metadata": {
        "id": "-X9OO8wiDkQ7",
        "outputId": "3e7ba448-1ed0-43d3-d122-1786ed094ec1",
        "colab": {
          "base_uri": "https://localhost:8080/"
        }
      },
      "source": [
        "# defining the number of epochs\n",
        "epochs = 400\n",
        "# empty list to store training losses\n",
        "train_loss = []\n",
        "# empty list to store validation losses\n",
        "val_loss = []\n",
        "# training the model\n",
        "for epoch in range(epochs):\n",
        "    flag = train(epoch)\n",
        "    if(flag==1):\n",
        "        break"
      ],
      "execution_count": null,
      "outputs": [
        {
          "output_type": "stream",
          "text": [
            "/usr/local/lib/python3.7/dist-packages/torch/nn/functional.py:718: UserWarning: Named tensors and all their associated APIs are an experimental feature and subject to change. Please do not use them for anything important until they are released as stable. (Triggered internally at  /pytorch/c10/core/TensorImpl.h:1156.)\n",
            "  return torch.max_pool2d(input, kernel_size, stride, padding, dilation, ceil_mode)\n"
          ],
          "name": "stderr"
        },
        {
          "output_type": "stream",
          "text": [
            "Epoch :  1 \t loss_val : tensor(2.3369, grad_fn=<NllLossBackward>) \t loss_train: tensor(2.3835, grad_fn=<NllLossBackward>)\n",
            "Epoch :  2 \t loss_val : tensor(6.9877, grad_fn=<NllLossBackward>) \t loss_train: tensor(7.2499, grad_fn=<NllLossBackward>)\n",
            "Epoch :  3 \t loss_val : tensor(4.8914, grad_fn=<NllLossBackward>) \t loss_train: tensor(5.5185, grad_fn=<NllLossBackward>)\n",
            "Epoch :  4 \t loss_val : tensor(4.0086, grad_fn=<NllLossBackward>) \t loss_train: tensor(4.2762, grad_fn=<NllLossBackward>)\n",
            "Epoch :  5 \t loss_val : tensor(3.3948, grad_fn=<NllLossBackward>) \t loss_train: tensor(3.4549, grad_fn=<NllLossBackward>)\n",
            "Epoch :  6 \t loss_val : tensor(2.9649, grad_fn=<NllLossBackward>) \t loss_train: tensor(2.9285, grad_fn=<NllLossBackward>)\n",
            "Epoch :  7 \t loss_val : tensor(2.5527, grad_fn=<NllLossBackward>) \t loss_train: tensor(2.4851, grad_fn=<NllLossBackward>)\n",
            "Epoch :  8 \t loss_val : tensor(2.2669, grad_fn=<NllLossBackward>) \t loss_train: tensor(2.2162, grad_fn=<NllLossBackward>)\n",
            "Epoch :  9 \t loss_val : tensor(2.1622, grad_fn=<NllLossBackward>) \t loss_train: tensor(2.1426, grad_fn=<NllLossBackward>)\n",
            "Epoch :  10 \t loss_val : tensor(2.1821, grad_fn=<NllLossBackward>) \t loss_train: tensor(2.1793, grad_fn=<NllLossBackward>)\n",
            "Epoch :  11 \t loss_val : tensor(2.2170, grad_fn=<NllLossBackward>) \t loss_train: tensor(2.2161, grad_fn=<NllLossBackward>)\n",
            "Epoch :  12 \t loss_val : tensor(2.2464, grad_fn=<NllLossBackward>) \t loss_train: tensor(2.2393, grad_fn=<NllLossBackward>)\n",
            "Epoch :  13 \t loss_val : tensor(2.2675, grad_fn=<NllLossBackward>) \t loss_train: tensor(2.2576, grad_fn=<NllLossBackward>)\n",
            "Epoch :  14 \t loss_val : tensor(2.2790, grad_fn=<NllLossBackward>) \t loss_train: tensor(2.2671, grad_fn=<NllLossBackward>)\n",
            "Epoch :  15 \t loss_val : tensor(2.2827, grad_fn=<NllLossBackward>) \t loss_train: tensor(2.2690, grad_fn=<NllLossBackward>)\n",
            "Epoch :  16 \t loss_val : tensor(2.2797, grad_fn=<NllLossBackward>) \t loss_train: tensor(2.2648, grad_fn=<NllLossBackward>)\n",
            "Epoch :  17 \t loss_val : tensor(2.2707, grad_fn=<NllLossBackward>) \t loss_train: tensor(2.2547, grad_fn=<NllLossBackward>)\n",
            "Epoch :  18 \t loss_val : tensor(2.2530, grad_fn=<NllLossBackward>) \t loss_train: tensor(2.2385, grad_fn=<NllLossBackward>)\n",
            "Epoch :  19 \t loss_val : tensor(2.2293, grad_fn=<NllLossBackward>) \t loss_train: tensor(2.2170, grad_fn=<NllLossBackward>)\n",
            "Epoch :  20 \t loss_val : tensor(2.1995, grad_fn=<NllLossBackward>) \t loss_train: tensor(2.1907, grad_fn=<NllLossBackward>)\n",
            "Epoch :  21 \t loss_val : tensor(2.1642, grad_fn=<NllLossBackward>) \t loss_train: tensor(2.1605, grad_fn=<NllLossBackward>)\n",
            "Epoch :  22 \t loss_val : tensor(2.1285, grad_fn=<NllLossBackward>) \t loss_train: tensor(2.1278, grad_fn=<NllLossBackward>)\n",
            "Epoch :  23 \t loss_val : tensor(2.0952, grad_fn=<NllLossBackward>) \t loss_train: tensor(2.0960, grad_fn=<NllLossBackward>)\n",
            "Epoch :  24 \t loss_val : tensor(2.0727, grad_fn=<NllLossBackward>) \t loss_train: tensor(2.0708, grad_fn=<NllLossBackward>)\n",
            "Epoch :  25 \t loss_val : tensor(2.0595, grad_fn=<NllLossBackward>) \t loss_train: tensor(2.0518, grad_fn=<NllLossBackward>)\n",
            "Epoch :  26 \t loss_val : tensor(2.0440, grad_fn=<NllLossBackward>) \t loss_train: tensor(2.0326, grad_fn=<NllLossBackward>)\n",
            "Epoch :  27 \t loss_val : tensor(2.0215, grad_fn=<NllLossBackward>) \t loss_train: tensor(2.0077, grad_fn=<NllLossBackward>)\n",
            "Epoch :  28 \t loss_val : tensor(1.9882, grad_fn=<NllLossBackward>) \t loss_train: tensor(1.9761, grad_fn=<NllLossBackward>)\n",
            "Epoch :  29 \t loss_val : tensor(1.9457, grad_fn=<NllLossBackward>) \t loss_train: tensor(1.9384, grad_fn=<NllLossBackward>)\n",
            "Epoch :  30 \t loss_val : tensor(1.8946, grad_fn=<NllLossBackward>) \t loss_train: tensor(1.8948, grad_fn=<NllLossBackward>)\n",
            "Epoch :  31 \t loss_val : tensor(1.8355, grad_fn=<NllLossBackward>) \t loss_train: tensor(1.8446, grad_fn=<NllLossBackward>)\n",
            "Epoch :  32 \t loss_val : tensor(1.7693, grad_fn=<NllLossBackward>) \t loss_train: tensor(1.7878, grad_fn=<NllLossBackward>)\n",
            "Epoch :  33 \t loss_val : tensor(1.7015, grad_fn=<NllLossBackward>) \t loss_train: tensor(1.7264, grad_fn=<NllLossBackward>)\n",
            "Epoch :  34 \t loss_val : tensor(1.6342, grad_fn=<NllLossBackward>) \t loss_train: tensor(1.6593, grad_fn=<NllLossBackward>)\n",
            "Epoch :  35 \t loss_val : tensor(1.5725, grad_fn=<NllLossBackward>) \t loss_train: tensor(1.5891, grad_fn=<NllLossBackward>)\n",
            "Epoch :  36 \t loss_val : tensor(1.5173, grad_fn=<NllLossBackward>) \t loss_train: tensor(1.5211, grad_fn=<NllLossBackward>)\n",
            "Epoch :  37 \t loss_val : tensor(1.4664, grad_fn=<NllLossBackward>) \t loss_train: tensor(1.4575, grad_fn=<NllLossBackward>)\n",
            "Epoch :  38 \t loss_val : tensor(1.4114, grad_fn=<NllLossBackward>) \t loss_train: tensor(1.3931, grad_fn=<NllLossBackward>)\n",
            "Epoch :  39 \t loss_val : tensor(1.3490, grad_fn=<NllLossBackward>) \t loss_train: tensor(1.3265, grad_fn=<NllLossBackward>)\n",
            "Epoch :  40 \t loss_val : tensor(1.2784, grad_fn=<NllLossBackward>) \t loss_train: tensor(1.2607, grad_fn=<NllLossBackward>)\n",
            "Epoch :  41 \t loss_val : tensor(1.2091, grad_fn=<NllLossBackward>) \t loss_train: tensor(1.2028, grad_fn=<NllLossBackward>)\n",
            "Epoch :  42 \t loss_val : tensor(1.1464, grad_fn=<NllLossBackward>) \t loss_train: tensor(1.1573, grad_fn=<NllLossBackward>)\n",
            "Epoch :  43 \t loss_val : tensor(1.0980, grad_fn=<NllLossBackward>) \t loss_train: tensor(1.1229, grad_fn=<NllLossBackward>)\n",
            "Epoch :  44 \t loss_val : tensor(1.0612, grad_fn=<NllLossBackward>) \t loss_train: tensor(1.0914, grad_fn=<NllLossBackward>)\n",
            "Epoch :  45 \t loss_val : tensor(1.0279, grad_fn=<NllLossBackward>) \t loss_train: tensor(1.0537, grad_fn=<NllLossBackward>)\n",
            "Epoch :  46 \t loss_val : tensor(0.9986, grad_fn=<NllLossBackward>) \t loss_train: tensor(1.0103, grad_fn=<NllLossBackward>)\n",
            "Epoch :  47 \t loss_val : tensor(0.9757, grad_fn=<NllLossBackward>) \t loss_train: tensor(0.9678, grad_fn=<NllLossBackward>)\n",
            "Epoch :  48 \t loss_val : tensor(0.9576, grad_fn=<NllLossBackward>) \t loss_train: tensor(0.9258, grad_fn=<NllLossBackward>)\n",
            "Epoch :  49 \t loss_val : tensor(0.9391, grad_fn=<NllLossBackward>) \t loss_train: tensor(0.8808, grad_fn=<NllLossBackward>)\n",
            "Epoch :  50 \t loss_val : tensor(0.9172, grad_fn=<NllLossBackward>) \t loss_train: tensor(0.8339, grad_fn=<NllLossBackward>)\n",
            "Epoch :  51 \t loss_val : tensor(0.8944, grad_fn=<NllLossBackward>) \t loss_train: tensor(0.7899, grad_fn=<NllLossBackward>)\n",
            "Epoch :  52 \t loss_val : tensor(0.8742, grad_fn=<NllLossBackward>) \t loss_train: tensor(0.7543, grad_fn=<NllLossBackward>)\n",
            "Epoch :  53 \t loss_val : tensor(0.8588, grad_fn=<NllLossBackward>) \t loss_train: tensor(0.7266, grad_fn=<NllLossBackward>)\n",
            "Epoch :  54 \t loss_val : tensor(0.8488, grad_fn=<NllLossBackward>) \t loss_train: tensor(0.7000, grad_fn=<NllLossBackward>)\n",
            "Epoch :  55 \t loss_val : tensor(0.8402, grad_fn=<NllLossBackward>) \t loss_train: tensor(0.6720, grad_fn=<NllLossBackward>)\n",
            "Early Stoppage at 55\n"
          ],
          "name": "stdout"
        }
      ]
    },
    {
      "cell_type": "code",
      "metadata": {
        "id": "uasRU9gZDm2n",
        "outputId": "53ebf317-807b-4eb8-d89e-45e4f3a2dc45",
        "colab": {
          "base_uri": "https://localhost:8080/",
          "height": 265
        }
      },
      "source": [
        "# plotting the training and validation loss\n",
        "plt.plot(train_loss, label='Training loss')\n",
        "plt.plot(val_loss, label='Validation loss')\n",
        "plt.legend()\n",
        "plt.show()"
      ],
      "execution_count": null,
      "outputs": [
        {
          "output_type": "display_data",
          "data": {
            "image/png": "[encoded data removed]",
            "text/plain": [
              "<Figure size 432x288 with 1 Axes>"
            ]
          },
          "metadata": {
            "tags": [],
            "needs_background": "light"
          }
        }
      ]
    },
    {
      "cell_type": "code",
      "metadata": {
        "id": "2VnMG_cwD0Ii",
        "outputId": "87dca646-1043-48cf-fb08-29ac0cec42c1",
        "colab": {
          "base_uri": "https://localhost:8080/"
        }
      },
      "source": [
        "# prediction for training set\n",
        "with torch.no_grad():\n",
        "    output = model(train_x)\n",
        "    \n",
        "softmax = torch.exp(output).cpu()\n",
        "prob = list(softmax.numpy())\n",
        "predictions = np.argmax(prob, axis=1)\n",
        "\n",
        "# accuracy on training set\n",
        "accuracy_score(train_y, predictions)"
      ],
      "execution_count": null,
      "outputs": [
        {
          "output_type": "execute_result",
          "data": {
            "text/plain": [
              "0.80623973727422"
            ]
          },
          "metadata": {
            "tags": []
          },
          "execution_count": 46
        }
      ]
    },
    {
      "cell_type": "code",
      "metadata": {
        "id": "WZuQT-S8EJDL",
        "outputId": "5d85acf7-6178-466d-99d2-05f81bbd80f1",
        "colab": {
          "base_uri": "https://localhost:8080/"
        }
      },
      "source": [
        "# prediction for validation set\n",
        "with torch.no_grad():\n",
        "    output = model(val_x)\n",
        "\n",
        "softmax = torch.exp(output).cpu()\n",
        "prob = list(softmax.numpy())\n",
        "predictions = np.argmax(prob, axis=1)\n",
        "\n",
        "# accuracy on validation set\n",
        "accuracy_score(val_y, predictions)"
      ],
      "execution_count": null,
      "outputs": [
        {
          "output_type": "execute_result",
          "data": {
            "text/plain": [
              "0.6593406593406593"
            ]
          },
          "metadata": {
            "tags": []
          },
          "execution_count": 47
        }
      ]
    },
    {
      "cell_type": "code",
      "metadata": {
        "id": "m0_GXpAMEOps"
      },
      "source": [
        "# predicting on test set"
      ],
      "execution_count": null,
      "outputs": []
    },
    {
      "cell_type": "code",
      "metadata": {
        "id": "OF2UmGoqEQnD",
        "outputId": "f4d0478b-0981-48f7-f781-10857cccca74",
        "colab": {
          "base_uri": "https://localhost:8080/"
        }
      },
      "source": [
        "# loading testing images\n",
        "apply_transform = transforms.Compose([transforms.Resize((28,28)), transforms.ToTensor()])\n",
        "test_data_img = []\n",
        "for index in tqdm.trange(len(df_test['digit'])):\n",
        "    # defining the image path\n",
        "    img_path = '/content/BDRW_dataset/' + str(df_test['digit'][index]) + '.jpg'\n",
        "    # reading the image\n",
        "    img = Image.open(img_path).convert('L')\n",
        "    #transforming\n",
        "    img_transformed = apply_transform(img)\n",
        "    #converting back to numpy\n",
        "    img_numpy = img_transformed.numpy()\n",
        "    test_data_img.append(img_numpy)\n",
        "\n",
        "# converting the list to numpy array\n",
        "test_x = np.array(test_data_img)\n",
        "# defining the target\n",
        "test_y = df_test['label'].values\n",
        "test_x.shape"
      ],
      "execution_count": null,
      "outputs": [
        {
          "output_type": "stream",
          "text": [
            "100%|██████████| 693/693 [00:00<00:00, 2376.88it/s]\n"
          ],
          "name": "stderr"
        },
        {
          "output_type": "execute_result",
          "data": {
            "text/plain": [
              "(693, 1, 28, 28)"
            ]
          },
          "metadata": {
            "tags": []
          },
          "execution_count": 49
        }
      ]
    },
    {
      "cell_type": "code",
      "metadata": {
        "id": "N9ib3JZGEje5",
        "outputId": "cb097c3f-0572-4367-e4b0-2a148402b92d",
        "colab": {
          "base_uri": "https://localhost:8080/"
        }
      },
      "source": [
        "test_x = test_x.reshape(693, 1, 28, 28)\n",
        "test_x  = torch.from_numpy(test_x)\n",
        "test_x.shape"
      ],
      "execution_count": null,
      "outputs": [
        {
          "output_type": "execute_result",
          "data": {
            "text/plain": [
              "torch.Size([693, 1, 28, 28])"
            ]
          },
          "metadata": {
            "tags": []
          },
          "execution_count": 50
        }
      ]
    },
    {
      "cell_type": "code",
      "metadata": {
        "id": "EaGrATRNEl8v"
      },
      "source": [
        "# generating predictions for test set\n",
        "with torch.no_grad():\n",
        "    output = model(test_x)\n",
        "\n",
        "softmax = torch.exp(output).cpu()\n",
        "prob = list(softmax.numpy())\n",
        "predict = np.argmax(prob, axis=1)"
      ],
      "execution_count": null,
      "outputs": []
    },
    {
      "cell_type": "code",
      "metadata": {
        "id": "zOHIAf6tEn4g"
      },
      "source": [
        "# replacing the label with prediction\n",
        "test_results = pd.DataFrame(columns = [\"label\"])\n",
        "test_results['label'] = predict"
      ],
      "execution_count": null,
      "outputs": []
    },
    {
      "cell_type": "code",
      "metadata": {
        "id": "5h_08cywEq79"
      },
      "source": [
        "test_y = df_test['label'].values"
      ],
      "execution_count": null,
      "outputs": []
    },
    {
      "cell_type": "code",
      "metadata": {
        "id": "2XfTbSw2Exev",
        "outputId": "2015d288-5d97-46d8-bc41-e70ec4ddba0a",
        "colab": {
          "base_uri": "https://localhost:8080/"
        }
      },
      "source": [
        "type(train_y)"
      ],
      "execution_count": null,
      "outputs": [
        {
          "output_type": "execute_result",
          "data": {
            "text/plain": [
              "torch.Tensor"
            ]
          },
          "metadata": {
            "tags": []
          },
          "execution_count": 54
        }
      ]
    },
    {
      "cell_type": "code",
      "metadata": {
        "id": "CUUTTtitE2Ik"
      },
      "source": [
        "test_y = test_y.astype(int);\n",
        "test_y = torch.from_numpy(test_y)"
      ],
      "execution_count": null,
      "outputs": []
    },
    {
      "cell_type": "code",
      "metadata": {
        "id": "DBzlmSdjQeYr",
        "outputId": "3e58605a-5766-40b5-8763-00409b999a65",
        "colab": {
          "base_uri": "https://localhost:8080/"
        }
      },
      "source": [
        "# accuracy on test set\n",
        "accuracy_score(test_y, predict)"
      ],
      "execution_count": null,
      "outputs": [
        {
          "output_type": "execute_result",
          "data": {
            "text/plain": [
              "0.6911976911976911"
            ]
          },
          "metadata": {
            "tags": []
          },
          "execution_count": 56
        }
      ]
    },
    {
      "cell_type": "code",
      "metadata": {
        "id": "WBKwyfBEQma6"
      },
      "source": [],
      "execution_count": null,
      "outputs": []
    }
  ]
}